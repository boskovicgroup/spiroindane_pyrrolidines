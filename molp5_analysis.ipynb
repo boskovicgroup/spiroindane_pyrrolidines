{
 "cells": [
  {
   "cell_type": "code",
   "execution_count": 1,
   "metadata": {
    "collapsed": false
   },
   "outputs": [],
   "source": [
    "### \n",
    "# Sheets:\n",
    "# 1 - Experimental Setup\n",
    "# 2 - Basic Features\n",
    "# 3 - PCA, All Together\n",
    "# 4 - PCA, Individual Reps\n",
    "# 5 - Histograms\n",
    "# 6 - Clustering / Heatmaps"
   ]
  },
  {
   "cell_type": "code",
   "execution_count": 2,
   "metadata": {
    "collapsed": false
   },
   "outputs": [],
   "source": [
    "import pandas as pd\n",
    "import numpy as np\n",
    "from numpy.polynomial.polynomial import polyfit\n",
    "import math\n",
    "import sys\n",
    "import os\n",
    "import matplotlib.colors as mat_colors\n",
    "import matplotlib.pyplot as plt\n",
    "import matplotlib.gridspec as gridspec\n",
    "import matplotlib.image as mpimg \n",
    "import re\n",
    "import experiment as molp5\n",
    "import scipy\n",
    "import seaborn as sns\n",
    "from sklearn.cluster import AgglomerativeClustering\n",
    "from sklearn.preprocessing import StandardScaler\n",
    "from sklearn.decomposition import PCA"
   ]
  },
  {
   "cell_type": "code",
   "execution_count": 3,
   "metadata": {
    "collapsed": false
   },
   "outputs": [],
   "source": [
    "plt.rc('text', usetex=True)\n",
    "plt.rcParams.update({'font.size': 16})"
   ]
  },
  {
   "cell_type": "code",
   "execution_count": 4,
   "metadata": {
    "collapsed": false
   },
   "outputs": [],
   "source": [
    "raw_data_rep1 = pd.read_csv(\"rep1_Image.csv\",sep=r'\\s*,\\s*',engine=\"python\")\n",
    "raw_data_rep2 = pd.read_csv(\"rep2_Image.csv\",sep=r'\\s*,\\s*',engine=\"python\")\n",
    "raw_data_rep3 = pd.read_csv(\"rep3_Image.csv\",sep=r'\\s*,\\s*',engine=\"python\")\n",
    "plate_map = pd.read_csv(\"plate_0000107.csv\",sep=r'\\s*,\\s*',engine=\"python\")\n",
    "control_map = pd.read_csv(\"plate_0000108.csv\",sep=r'\\s*,\\s*',engine=\"python\")\n",
    "control_data_rep1 = pd.read_csv(\"ctrl_rep1_Image.csv\",sep=r'\\s*,\\s*',engine=\"python\")\n",
    "control_data_rep2 = pd.read_csv(\"ctrl_rep2_Image.csv\",sep=r'\\s*,\\s*',engine=\"python\")\n",
    "control_data_rep3 = pd.read_csv(\"ctrl_rep3_Image.csv\",sep=r'\\s*,\\s*',engine=\"python\")"
   ]
  },
  {
   "cell_type": "code",
   "execution_count": 5,
   "metadata": {
    "collapsed": false
   },
   "outputs": [],
   "source": [
    "# Some information about the experiment\n",
    "sites = 4\n",
    "excluded_rows = ['a', 'b', 'o', 'p']\n",
    "excluded_cols = [1, 2, 23, 24]"
   ]
  },
  {
   "cell_type": "code",
   "execution_count": 46,
   "metadata": {
    "collapsed": false
   },
   "outputs": [],
   "source": [
    "def dropColumns(dataframe, *args, **kwargs):\n",
    "    ax = kwargs.pop('axis', 0)\n",
    "    for arg in args:\n",
    "        dataframe = dataframe.copy().drop(arg, ax)\n",
    "    return dataframe\n",
    "\n",
    "class Experiment:\n",
    "    def __init__(self, raw_data, plate_map, sites, excluded_rows, excluded_cols):\n",
    "        self.raw_data = raw_data\n",
    "        self.raw_plate = plate_map\n",
    "        self.sites = sites\n",
    "        self.excluded_rows = excluded_rows\n",
    "        self.excluded_cols = excluded_cols\n",
    "        self.replicates = len(self.raw_data)\n",
    "        self.processed_raw_data = self.preprocessRawData()\n",
    "        # We may have N replicates and 1 plate map for all of them, so we don't need to call\n",
    "        # preprocessWellPlate with the entire list of replicates. We just need it temporarily to\n",
    "        # get the list of wells, and we use the list of wells to standardize the wells on the\n",
    "        # plate map, so passing in one is just fine.\n",
    "        self.processed_plate = self.preprocessWellPlate(\n",
    "            self.processed_raw_data[0], self.raw_plate, self.sites, self.excluded_rows, self.excluded_cols\n",
    "        )\n",
    "        self.dmso_wells = self.getDMSOWells()\n",
    "        self.compound_wells = self.getCompoundWells()\n",
    "        self.dmso_replicates = self.getDMSORows()\n",
    "        self.molecules = list(set(list(self.processed_plate[self.processed_plate['xk_sample_id'].notna()]['xk_sample_id'])))\n",
    "        self.molecules = [mol for mol in self.molecules if mol != \"XK00000397-001\"]\n",
    "        self.concentrs = list(set(list(self.processed_plate[self.processed_plate['concentration'].notna()]['concentration'])))\n",
    "        self.num_molecules = len(self.molecules)\n",
    "        self.num_concentrs = len(self.concentrs)\n",
    "        self.concentrs.sort()\n",
    "        self.concentrs.reverse()\n",
    "        self.dmso_reps_mean = self.collapseDMSO('mean')\n",
    "        self.dmso_reps_stdev = self.collapseDMSO('stdev')\n",
    "        self.features_daccess = dropColumns(\n",
    "            self.dmso_replicates[0], 'Metadata_Well', 'Count_Cells', 'Count_Cytoplasm', 'Count_Nuclei', axis=1\n",
    "        ).columns\n",
    "        self.features_human = [feature.replace('_', ' ') for feature in self.features_daccess]\n",
    "        self.dmso_cell_counts = self.getDMSOCellCounts()\n",
    "        self.__generateFingerprintMatrices()\n",
    "        self.__generateDistanceMatrices('euclidean')\n",
    "        self.__getAverageOfReplicates()\n",
    "        self.__getVarianceOfReplicates()\n",
    "\n",
    "    def preprocessRawData(self):\n",
    "        processed_data = []\n",
    "        for entry in self.raw_data:\n",
    "            raw_wells = self.condenseWells(entry)\n",
    "            raw_numeric = self.filterNonnumericData(entry)\n",
    "            feature_counts = self.getFeatureCounts(entry, self.sites)\n",
    "            features_and_wells = self.mergeDataframes(feature_counts, raw_wells)\n",
    "            cols = list(features_and_wells.columns.values)\n",
    "            cols = [cols[-1]] + cols[:3]\n",
    "            features_and_wells = features_and_wells[cols]\n",
    "            aggregated_data = self.getMeanData(raw_numeric)\n",
    "            # aggregated_median = self.getMedianData(raw_numeric)\n",
    "            # aggregated_stdev = self.getStdevData(raw_numeric)\n",
    "            # aggregated_data = self.mergeDataframes(self.mergeDataframes(aggregated_mean, aggregated_median),aggregated_stdev)\n",
    "            aggregated_data_merged = aggregated_data.groupby(np.arange(len(aggregated_data))//self.sites).mean()\n",
    "            correlated_data = self.mergeDataframes(features_and_wells, aggregated_data_merged)\n",
    "            processed_data.append(correlated_data)\n",
    "        return processed_data\n",
    "\n",
    "    def preprocessWellPlate(self, processed_raw_wells, plate_map,\n",
    "                            sites = 4,\n",
    "                            plate_excluded_rows = ['a', 'b', 'c', 'd'],\n",
    "                            plate_excluded_cols = [1,2,23,24]):\n",
    "        plate_filtered = self.filterWellPlate(self.raw_plate)\n",
    "        plate_well_mapped = dropColumns(\n",
    "            plate_filtered, 'well_row', 'well_column', 'plate_barcode', 'layout_type', axis=1)\n",
    "        plate_well_mapped['well'] = processed_raw_wells['Metadata_Well']\n",
    "        # Rearrange columns so wells come first\n",
    "        cols = list(plate_well_mapped.columns.values)\n",
    "        cols = [cols[-1]] + cols[:-1]\n",
    "        plate_well_mapped = plate_well_mapped[cols]\n",
    "        return plate_well_mapped\n",
    "\n",
    "    def condenseWells(self, dataframe):\n",
    "        return dataframe[\"Metadata_Well\"].iloc[::self.sites].reset_index(drop=True)\n",
    "\n",
    "    def getFeatureCounts(self, dataframe, sites):\n",
    "        raw_features = dataframe[dataframe.columns[pd.Series(dataframe.columns.str.startswith('Count_'))]].copy()\n",
    "        return raw_features.groupby(np.arange(len(raw_features))//sites).sum()\n",
    "\n",
    "    def mergeDataframes(self, becomes_leading, becomes_trailing):\n",
    "        return becomes_leading.merge(becomes_trailing, how='outer', left_index=True, right_index=True)\n",
    "\n",
    "    def getMeanData(self, dataframe):\n",
    "        dataframe = dataframe[dataframe.columns[pd.Series(dataframe.columns.str.startswith('Mean'))]].copy()\n",
    "        dataframe_cell = dataframe[dataframe.columns[pd.Series(dataframe.columns.str.startswith('Mean_Cell'))]].copy()\n",
    "        dataframe_cyto = dataframe[dataframe.columns[pd.Series(dataframe.columns.str.startswith('Mean_Cyto'))]].copy()\n",
    "        dataframe_nucl = dataframe[dataframe.columns[pd.Series(dataframe.columns.str.startswith('Mean_Nuclei'))]].copy()\n",
    "        dataframe_cell_merged = dataframe_cell.groupby(np.arange(len(dataframe_cell))//self.sites).mean()\n",
    "        dataframe_cyto_merged = dataframe_cyto.groupby(np.arange(len(dataframe_cyto))//self.sites).mean()\n",
    "        dataframe_nucl_merged = dataframe_nucl.groupby(np.arange(len(dataframe_nucl))//self.sites).mean()\n",
    "        return self.mergeDataframes(self.mergeDataframes(dataframe_cell, dataframe_cyto), dataframe_nucl)\n",
    "\n",
    "    def getMedianData(self, dataframe):\n",
    "        dataframe = dataframe[dataframe.columns[pd.Series(dataframe.columns.str.startswith('Median'))]].copy()\n",
    "        dataframe_cell = dataframe[dataframe.columns[pd.Series(dataframe.columns.str.startswith('Median_Cell'))]].copy()\n",
    "        dataframe_cyto = dataframe[dataframe.columns[pd.Series(dataframe.columns.str.startswith('Median_Cyto'))]].copy()\n",
    "        dataframe_nucl = dataframe[dataframe.columns[pd.Series(dataframe.columns.str.startswith('Median_Nuclei'))]].copy()\n",
    "        dataframe_cell_merged = dataframe_cell.groupby(np.arange(len(dataframe_cell))//self.sites).mean()\n",
    "        dataframe_cyto_merged = dataframe_cyto.groupby(np.arange(len(dataframe_cyto))//self.sites).mean()\n",
    "        dataframe_nucl_merged = dataframe_nucl.groupby(np.arange(len(dataframe_nucl))//self.sites).mean()\n",
    "        return self.mergeDataframes(self.mergeDataframes(dataframe_cell, dataframe_cyto), dataframe_nucl)\n",
    "\n",
    "    def getStdevData(self, dataframe):\n",
    "        dataframe = dataframe[dataframe.columns[pd.Series(dataframe.columns.str.startswith('StDev'))]].copy()\n",
    "        dataframe_cell = dataframe[dataframe.columns[pd.Series(dataframe.columns.str.startswith('StDev_Cell'))]].copy()\n",
    "        dataframe_cyto = dataframe[dataframe.columns[pd.Series(dataframe.columns.str.startswith('StDev_Cyto'))]].copy()\n",
    "        dataframe_nucl = dataframe[dataframe.columns[pd.Series(dataframe.columns.str.startswith('StDev_Nuclei'))]].copy()\n",
    "        dataframe_cell_merged = dataframe_cell.groupby(np.arange(len(dataframe_cell))//self.sites).mean()\n",
    "        dataframe_cyto_merged = dataframe_cyto.groupby(np.arange(len(dataframe_cyto))//self.sites).mean()\n",
    "        dataframe_nucl_merged = dataframe_nucl.groupby(np.arange(len(dataframe_nucl))//self.sites).mean()\n",
    "        return self.mergeDataframes(self.mergeDataframes(dataframe_cell, dataframe_cyto), dataframe_nucl)\n",
    "\n",
    "    def filterNonnumericData(self, raw_data):\n",
    "        return raw_data._get_numeric_data()\n",
    "\n",
    "    def mergeDataframes(self, becomes_leading, becomes_trailing):\n",
    "        return becomes_leading.merge(becomes_trailing, how='outer', left_index=True, right_index=True)\n",
    "\n",
    "    def filterWellPlate(self, plate_map):\n",
    "        filter_rows = plate_map[~plate_map['well_row'].isin(self.excluded_rows)].reset_index(drop=True)\n",
    "        filter_both = filter_rows[~filter_rows['well_column'].isin(self.excluded_cols)].reset_index(drop=True)\n",
    "        return filter_both\n",
    "\n",
    "    def getRaw(self, replicate):\n",
    "        return self.raw_data[replicate]\n",
    "\n",
    "    def getProcessed(self, replicate):\n",
    "        return self.processed_raw_data[replicate]\n",
    "\n",
    "    def getDMSOWells(self):\n",
    "        return list(dropColumns(self.processed_plate[(self.processed_plate[\"solvent\"].notna()) & (self.processed_plate[\"xk_sample_id\"].isnull())].copy(),\n",
    "                                'xk_sample_id', 'concentration', 'concentration_units', axis=1)['well'])\n",
    "\n",
    "    def getDMSORows(self):\n",
    "        dmso_reps = []\n",
    "        for entry in self.processed_raw_data:\n",
    "            dmso_reps.append(entry[entry['Metadata_Well'].isin(self.dmso_wells)].reset_index(drop=True))\n",
    "        return dmso_reps\n",
    "\n",
    "    def getCompoundWells(self):\n",
    "        return self.processed_plate[(self.processed_plate[\"xk_sample_id\"].notna())].copy().reset_index(drop=True)\n",
    "\n",
    "    def mergeSitesToWell(self, dataframe, sites=4):\n",
    "        return dataframe.groupby(np.arange(len(dataframe))//sites).mean()\n",
    "\n",
    "    def collapseToOneRow(self, dataframe, method):\n",
    "        if(method == 'variance'):\n",
    "            return dataframe.copy().groupby(np.arange(len(dataframe))//len(dataframe)).var()\n",
    "        elif(method == 'mean'):\n",
    "            return dataframe.copy().groupby(np.arange(len(dataframe))//len(dataframe)).mean()\n",
    "        elif(method == 'stdev'):\n",
    "            return dataframe.copy().groupby(np.arange(len(dataframe))//len(dataframe)).std()\n",
    "        else:\n",
    "            raise ValueError('Enter a method -- one of: variance, mean, stdev')\n",
    "\n",
    "    def getDMSOCellCounts(self):\n",
    "        dmso_avg_with_counts = MyTest.collapseDMSOWithCounts('mean')\n",
    "        counts = []\n",
    "        for entry in dmso_avg_with_counts:\n",
    "            counts.append(entry['Count_Cells'].to_list()[0])\n",
    "        return counts\n",
    "\n",
    "    def collapseDMSOWithCounts(self, method):\n",
    "        reps = []\n",
    "        for entry in self.dmso_replicates:\n",
    "            reps.append(self.collapseToOneRow(entry, method))\n",
    "        return reps\n",
    "\n",
    "    def collapseDMSO(self, method):\n",
    "        reps = []\n",
    "        for entry in self.dmso_replicates:\n",
    "            reps.append(dropColumns(self.collapseToOneRow(entry, method), 'Count_Cells', 'Count_Cytoplasm', 'Count_Nuclei', axis=1))\n",
    "        return reps\n",
    "\n",
    "    def getWellByCompoundConc(self, compound, concentration):\n",
    "        compound_well_with_conc = self.compound_wells.loc[(self.compound_wells['xk_sample_id'].astype('str')==compound) &\n",
    "                                                 (self.compound_wells['concentration'] == concentration)]\n",
    "        return compound_well_with_conc\n",
    "\n",
    "    def findWellInRawData(self, well, replicate):\n",
    "        python_wants_a_list = [well]\n",
    "        return (self.processed_raw_data[replicate])[(self.processed_raw_data[replicate])['Metadata_Well'].isin(python_wants_a_list)].reset_index(drop=True)\n",
    "\n",
    "    def getCompoundRows(self, replicate):\n",
    "        return (self.processed_raw_data[replicate])[(self.processed_raw_data[replicate])['Metadata_Well'].isin(self.compound_wells['well'].to_list())].reset_index(drop=True)\n",
    "\n",
    "    def getObsCounts(self, compound, conc, replicate):\n",
    "        if(replicate < 1) or (replicate > self.replicates):\n",
    "            raise ValueError(\"Replicate must be in range [1,reps]\")\n",
    "        else:\n",
    "            compound_data = self.getWellByCompoundConc(compound, conc)\n",
    "            if compound_data.empty:\n",
    "                return None\n",
    "            well = compound_data['well'].reset_index(drop=True)[0]\n",
    "            conc = compound_data['concentration'].reset_index(drop=True)[0]\n",
    "            compound_data = self.findWellInRawData(well, (replicate - 1))\n",
    "            cell_count = compound_data['Count_Cells'].reset_index(drop=True)[0]\n",
    "            cyto_count = compound_data['Count_Cytoplasm'].reset_index(drop=True)[0]\n",
    "            nucl_count = compound_data['Count_Nuclei'].reset_index(drop=True)[0]\n",
    "            temp_df = pd.DataFrame()\n",
    "            temp_df[\"Replicate\"] = [replicate]\n",
    "            temp_df[\"Molecule\"] = [compound]\n",
    "            temp_df[\"Concentration\"] = [conc]\n",
    "            temp_df[\"Count_Cells\"] = [cell_count]\n",
    "            temp_df[\"Count_Cells_Scaled\"] = [cell_count / self.dmso_cell_counts[(replicate - 1)]]\n",
    "            temp_df[\"Count_Cytoplasm\"] = [cyto_count]\n",
    "            temp_df[\"Count_Nuclei\"] = [nucl_count]\n",
    "            return temp_df\n",
    "\n",
    "    def getCompoundFingerprint(self, compound, conc, replicate, rtype='None', keepCounts=False):\n",
    "        if(replicate < 1) or (replicate > self.replicates):\n",
    "            raise ValueError(\"Replicate must be in range [1,reps]\")\n",
    "        else:\n",
    "            compound_data = self.getWellByCompoundConc(compound, conc)\n",
    "            if compound_data.empty:\n",
    "                return None\n",
    "            well = compound_data['well'].reset_index(drop=True)[0]\n",
    "            conc = compound_data['concentration'].reset_index(drop=True)[0]\n",
    "            compound_data = self.findWellInRawData(well, (replicate - 1))\n",
    "            cell_count = compound_data['Count_Cells'].reset_index(drop=True)[0]\n",
    "            cyto_count = compound_data['Count_Cytoplasm'].reset_index(drop=True)[0]\n",
    "            nucl_count = compound_data['Count_Nuclei'].reset_index(drop=True)[0]\n",
    "            new_data = dropColumns(compound_data, 'Metadata_Well', 'Count_Cells', 'Count_Cytoplasm', 'Count_Nuclei', axis=1)\n",
    "            dmso_data_mean = self.dmso_reps_mean[(replicate - 1)]\n",
    "            dmso_data_stdv = self.dmso_reps_stdev[(replicate - 1)]\n",
    "            if(rtype == 'list'):\n",
    "                return list(((new_data - dmso_data_mean) / dmso_data_stdv).loc[0])\n",
    "            else:\n",
    "                if(keepCounts == True):\n",
    "                    temp_df = (new_data - dmso_data_mean) / dmso_data_stdv\n",
    "                    temp_df[\"Concentration\"] = conc\n",
    "                    temp_df[\"Cell_Count\"] = cell_count\n",
    "                    return temp_df\n",
    "                else:\n",
    "                    return (new_data - dmso_data_mean) / dmso_data_stdv\n",
    "\n",
    "    def getSingleDistance(self, compound, concentration, replicate):\n",
    "        if concentration not in self.concentrs:\n",
    "            raise ValueError(\"Concentration not found in experiment.\")\n",
    "        else:\n",
    "            this_fp = self.getCompoundFingerprint(compound, concentration, replicate)\n",
    "            if this_fp is None:\n",
    "                return None\n",
    "            else:\n",
    "                return [concentration, math.sqrt(self.getCompoundFingerprint(compound, concentration, replicate).pow(2).sum(axis=1))]\n",
    "\n",
    "    def getAllDistances(self, compound, replicate):\n",
    "        this_vector = []\n",
    "        for conc in self.concentrs:\n",
    "            try:\n",
    "                this_vector.append(self.getSingleDistance(compound, conc, replicate))\n",
    "            # If this molecule was not tested at a particular concentration\n",
    "            except:\n",
    "                pass\n",
    "        return this_vector\n",
    "\n",
    "    def generateVectorDistances(self, replicate=None):\n",
    "        distances = pd.DataFrame()\n",
    "        if replicate is None:\n",
    "            for rep in range(1, self.replicates+1):\n",
    "                rep_df = pd.DataFrame()\n",
    "                for molecule in self.molecules:\n",
    "                    for conc in self.concentrs:\n",
    "                        temp_df = pd.DataFrame()\n",
    "                        temp_df[\"Replicate\"] = [rep]\n",
    "                        temp_df[\"Molecule\"] = [molecule]\n",
    "                        this_dist = self.getSingleDistance(molecule, conc, rep)\n",
    "                        if this_dist is None:\n",
    "                            continue\n",
    "                        else:\n",
    "                            temp_df[\"Concentration\"] = [this_dist[0]]\n",
    "                            temp_df[\"Magnitude\"] = [this_dist[1]]\n",
    "                            rep_df = rep_df.append(temp_df)\n",
    "                distances = distances.append(rep_df)\n",
    "            return distances\n",
    "        else: \n",
    "            rep_df = pd.DataFrame()\n",
    "            for molecule in self.molecules:\n",
    "                for conc in self.concentrs:\n",
    "                    temp_df = pd.DataFrame()\n",
    "                    temp_df[\"Replicate\"] = [replicate]\n",
    "                    temp_df[\"Molecule\"] = [molecule]\n",
    "                    this_dist = self.getSingleDistance(molecule, conc, replicate)\n",
    "                    if this_dist is None:\n",
    "                        continue\n",
    "                    else:\n",
    "                        temp_df[\"Concentration\"] = [this_dist[0]]\n",
    "                        temp_df[\"Magnitude\"] = [this_dist[1]]\n",
    "                        rep_df = rep_df.append(temp_df)\n",
    "            distances = distances.append(rep_df)\n",
    "            return distances\n",
    "\n",
    "\n",
    "    def getExtremesInFingerprintSeries(self, compound, conc, replicate):\n",
    "        max_y = -sys.maxsize - 1\n",
    "        min_y = sys.maxsize\n",
    "        for conc in self.concentrs:\n",
    "            this_replicate = self.getCompoundFingerprint(compound, conc, replicate, 'list')\n",
    "            if this_replicate is not None:\n",
    "                this_min = min(this_replicate)\n",
    "                this_max = max(this_replicate)\n",
    "                if(this_min < min_y): \n",
    "                    min_y = this_min\n",
    "                if(this_max > max_y):\n",
    "                    max_y = this_max\n",
    "        return [math.floor(min_y), math.ceil(max_y)]\n",
    "\n",
    "    def getExtremesAcrossReplicates(self, compound, conc):\n",
    "        max_y = -sys.maxsize - 1\n",
    "        min_y = sys.maxsize\n",
    "        for replicate in range(1,self.replicates+1):\n",
    "            this_replicate = self.getCompoundFingerprint(compound, conc, replicate, 'list')\n",
    "            if this_replicate is not None:\n",
    "                this_min = min(this_replicate)\n",
    "                this_max = max(this_replicate)\n",
    "                if(this_min < min_y): \n",
    "                    min_y = this_min\n",
    "                if(this_max > max_y):\n",
    "                    max_y = this_max\n",
    "        return [math.floor(min_y), math.ceil(max_y)]\n",
    "\n",
    "    def __generateFingerprintMatrices(self):\n",
    "        self.replicate_fingerprint_frames = []\n",
    "        for rep in range(1, self.replicates + 1):\n",
    "            fingerprints = pd.DataFrame()\n",
    "            for molecule in self.molecules:\n",
    "                for conc in self.concentrs:\n",
    "                    this_fp = pd.DataFrame()\n",
    "                    this_fp[\"Replicate\"] = [rep]\n",
    "                    this_fp[\"Molecule\"] = [molecule]\n",
    "                    this_fp['Concentration'] = [conc]\n",
    "                    this_data = self.getCompoundFingerprint(molecule, conc, rep)\n",
    "                    if this_data is None:\n",
    "                        continue\n",
    "                    else:\n",
    "                        final = this_fp.merge(this_data, how='outer', left_index=True, right_index=True)\n",
    "                        fingerprints = fingerprints.append(final)\n",
    "            self.replicate_fingerprint_frames.append(fingerprints)\n",
    "\n",
    "    def getFingerprintMatrix(self, replicate, aio=False):\n",
    "        if self.replicate_fingerprint_frames is None:\n",
    "            self.__generateFingerprintMatrices()\n",
    "            return self.replicate_fingerprint_frames[replicate - 1].reset_index(drop=True)\n",
    "        else:\n",
    "            if(aio == False):\n",
    "                return self.replicate_fingerprint_frames[replicate - 1].reset_index(drop=True)\n",
    "            else:\n",
    "                temp = pd.DataFrame()\n",
    "                for rep in replicate_fingerprint_frames:\n",
    "                    temp = temp.append(rep)\n",
    "                return temp.reset_index(drop=True)\n",
    "\n",
    "    def __generateDistanceMatrices(self, method):\n",
    "        self.replicate_euclidean_distance_matrices = []\n",
    "        for rep in self.replicate_fingerprint_frames:\n",
    "            temp = dropColumns(rep, 'Replicate', 'Molecule', 'Concentration', axis=1)\n",
    "            if(method == 'euclidean'):\n",
    "                self.replicate_euclidean_distance_matrices.append(scipy.spatial.distance_matrix(temp, temp))\n",
    "            if(method == 'mahalanobis'):\n",
    "                self.replicate_mahalanobis_distance_matrices.append(scipy.spatial.distance_matrix(temp, temp))\n",
    "\n",
    "    def getDistanceMatrix(self, replicate, method='euclidean'):\n",
    "        if self.replicate_fingerprint_frames is None:\n",
    "            self.__generateFingerprintMatrices()\n",
    "        if(method == 'euclidean'):\n",
    "            if self.replicate_euclidean_distance_matrices is None:\n",
    "                self.__generateDistanceMatrices('euclidean')\n",
    "            return self.replicate_euclidean_distance_matrices[replicate - 1]\n",
    "        elif(method == 'mahalanobis'):\n",
    "            if self.replicate_mahalanobis_distance_matrices is None:\n",
    "                self.__generateDistanceMatrices('mahalanobis')\n",
    "            return self.replicate_mahalanobis_distance_matrices[replicate - 1]\n",
    "        else:\n",
    "            raise ValueError(\"Must specify method as one of: euclidean, mahalanobis\")\n",
    "\n",
    "    def __getAverageOfReplicates(self):\n",
    "        molecules = pd.DataFrame(data=self.replicate_fingerprint_frames[0]['Molecule']).reset_index(drop=True)\n",
    "        temp_replicates = [dropColumns(rep, 'Replicate', 'Molecule', axis=1) for rep in self.replicate_fingerprint_frames]\n",
    "        temp_df = (sum(temp_replicates) / 3).reset_index(drop=True)\n",
    "        self.replicate_fingerprint_frames_averaged = self.mergeDataframes(molecules, temp_df)\n",
    "\n",
    "    def __getVarianceOfReplicates(self):\n",
    "        temp_df = self.getFingerprintMatrix(1)\n",
    "        molecules = temp_df['Molecule']\n",
    "        conc = temp_df['Concentration']\n",
    "        for i in range(2, self.replicates+1):\n",
    "            temp_df = temp_df.append(self.getFingerprintMatrix(i))\n",
    "        final_df = temp_df.copy().groupby([i % len(self.getFingerprintMatrix(1)) for i in range(len(temp_df))]).var()\n",
    "        final_df['Molecule'] = molecules\n",
    "        final_df['Concentration'] = conc\n",
    "        final_df = dropColumns(final_df, 'Replicate', axis=1)\n",
    "        cols = list(final_df.columns.values)\n",
    "        cols = [cols[-1]] + cols[:-1]\n",
    "        final_df = final_df[cols]\n",
    "        self.replicate_fingerprint_frames_variance = final_df\n",
    "\n",
    "    def getAverageOfReplicates(self):\n",
    "        return self.replicate_fingerprint_frames_averaged\n",
    "\n",
    "    def getVarianceOfReplicates(self):\n",
    "        return self.replicate_fingerprint_frames_variance\n",
    "\n",
    "    sites = None\n",
    "    replicates = None\n",
    "    excluded_rows = None\n",
    "    excluded_cols = None\n",
    "    molecules = None\n",
    "    concentrs = None\n",
    "    features_human = None\n",
    "    features_daccess = None\n",
    "    num_molecules = None\n",
    "    num_concentrs = None\n",
    "\n",
    "    raw_data = None\n",
    "    raw_plate = None\n",
    "\n",
    "    replicate_fingerprint_frames = None\n",
    "    replicate_euclidean_distance_matrices = None\n",
    "    replicate_mahalanobis_distance_matrices = None\n",
    "\n",
    "    replicate_fingerprint_frames_averaged = None\n",
    "    replicate_fingerprint_frames_variance = None\n",
    "    replicate_cov_matrix = None\n",
    "\n",
    "    replicate_similarity_matrices = None\n",
    "\n",
    "    processed_raw_data = None\n",
    "    processed_plate = None\n",
    "\n",
    "    dmso_wells = None\n",
    "    compound_wells = None\n",
    "\n",
    "    dmso_cell_counts = None\n",
    "    dmso_replicates = None\n",
    "    dmso_reps_mean = None\n",
    "    dmso_reps_stdev = None\n",
    "\n",
    "class DistanceMatrix:\n",
    "    def __init__(self, distances):\n",
    "        self.distances = distances\n",
    "\n",
    "    distances = None\n",
    "\n",
    "class Molecule:\n",
    "    def __init__(self, name, replicates, distances):\n",
    "        self.name = name\n",
    "        self.replicates = replicates\n",
    "        self.distances = distances\n",
    "\n",
    "    def getDistances(self, replicate):\n",
    "        if(replicate < 1):\n",
    "            raise ValueError(\"Replicate 0?\")\n",
    "        elif(replicate > self.replicates):\n",
    "            raise ValueError(\"Index out of bounds.\")\n",
    "        else:\n",
    "            return distances[replicate - 1]\n",
    "\n",
    "    name = None\n",
    "    replicates = None\n",
    "    distances = None"
   ]
  },
  {
   "cell_type": "code",
   "execution_count": 40,
   "metadata": {
    "collapsed": false
   },
   "outputs": [
    {
     "data": {
      "text/plain": [
       "[1191.0188679245282, 1174.5849056603774, 2253.3207547169814]"
      ]
     },
     "execution_count": 40,
     "metadata": {},
     "output_type": "execute_result"
    }
   ],
   "source": [
    "MyTest.dmso_cell_counts"
   ]
  },
  {
   "cell_type": "code",
   "execution_count": 47,
   "metadata": {
    "collapsed": false
   },
   "outputs": [],
   "source": [
    "MyTest = Experiment([raw_data_rep1, raw_data_rep2, raw_data_rep3], plate_map, sites, excluded_rows, excluded_cols)\n",
    "control_exp = Experiment([control_data_rep1, control_data_rep2, control_data_rep3], control_map, sites, excluded_rows, excluded_cols)"
   ]
  },
  {
   "cell_type": "code",
   "execution_count": 9,
   "metadata": {
    "collapsed": false
   },
   "outputs": [],
   "source": [
    "rep_df = pd.DataFrame()\n",
    "for molecule in MyTest.molecules:\n",
    "    for conc in MyTest.concentrs:\n",
    "        test = MyTest.getObsCounts(molecule, conc, 1)\n",
    "        rep_df = rep_df.append(test)"
   ]
  },
  {
   "cell_type": "code",
   "execution_count": 48,
   "metadata": {
    "collapsed": false
   },
   "outputs": [],
   "source": [
    "def get_obs_counts(molp5_exp):\n",
    "    reps = []\n",
    "    for rep in range(1, molp5_exp.replicates+1):\n",
    "        rep_df = pd.DataFrame()\n",
    "        for molecule in molp5_exp.molecules:\n",
    "            for conc in molp5_exp.concentrs:\n",
    "                test = molp5_exp.getObsCounts(molecule, conc, rep)\n",
    "                rep_df = rep_df.append(test)\n",
    "        reps.append(rep_df)\n",
    "    return reps"
   ]
  },
  {
   "cell_type": "code",
   "execution_count": null,
   "metadata": {
    "collapsed": false
   },
   "outputs": [],
   "source": [
    "test3 = get_obs_counts(MyTest)"
   ]
  },
  {
   "cell_type": "code",
   "execution_count": null,
   "metadata": {
    "collapsed": false
   },
   "outputs": [],
   "source": [
    "rep_df.head"
   ]
  },
  {
   "cell_type": "code",
   "execution_count": 13,
   "metadata": {
    "collapsed": false
   },
   "outputs": [],
   "source": [
    "temp_test = rep_df.loc[rep_df['Molecule'] == 'XK00001384-001']\n",
    "temp_test_con = temp_test['Concentration'].to_list()\n",
    "temp_test_cell = temp_test['Count_Cells'].to_list()"
   ]
  },
  {
   "cell_type": "code",
   "execution_count": 14,
   "metadata": {
    "collapsed": false
   },
   "outputs": [
    {
     "name": "stdout",
     "output_type": "stream",
     "text": [
      "[50.0, 16.67, 5.56, 1.85, 0.617, 0.20600000000000002]\n",
      "[766, 1265, 1553, 1561, 1491, 1534]\n"
     ]
    }
   ],
   "source": [
    "print(temp_test_con)\n",
    "print(temp_test_cell)"
   ]
  },
  {
   "cell_type": "code",
   "execution_count": 53,
   "metadata": {
    "collapsed": false
   },
   "outputs": [
    {
     "data": {
      "text/plain": [
       "[1191.0188679245282, 1174.5849056603774, 2253.3207547169814]"
      ]
     },
     "execution_count": 53,
     "metadata": {},
     "output_type": "execute_result"
    }
   ],
   "source": [
    "MyTest.dmso_cell_counts"
   ]
  },
  {
   "cell_type": "code",
   "execution_count": 51,
   "metadata": {
    "collapsed": false
   },
   "outputs": [],
   "source": [
    "exp_reps = get_obs_counts(MyTest)\n",
    "ctrl_reps = get_obs_counts(control_exp)"
   ]
  },
  {
   "cell_type": "code",
   "execution_count": null,
   "metadata": {
    "collapsed": false
   },
   "outputs": [],
   "source": [
    "exp_reps"
   ]
  },
  {
   "cell_type": "code",
   "execution_count": null,
   "metadata": {
    "collapsed": false
   },
   "outputs": [],
   "source": [
    "\n",
    "fig, ax = plt.subplots(figsize=(20,40))\n",
    "fig.patch.set_facecolor('white')\n",
    "for molecule in control_exp.molecules:\n",
    "    for index, entry in enumerate(exp_reps):\n",
    "        this_mol = entry.loc[entry['Molecule'] == molecule]\n",
    "        this_mol_con = this_mol['Concentration'].to_list()\n",
    "        con_processed = [math.log(2*i) for i in this_mol_con]\n",
    "        this_mol_cell = this_mol['Count_Cells'].to_list()\n",
    "        ax.scatter(this_mol_con, this_mol_cell, label=molecule)\n",
    "        plt.annotate(molecule+\", Rep \" + str(index), (this_mol_con[0],this_mol_cell[0]), fontsize=10)\n",
    "plt.title(\"Experimental Cell Count vs. Concentration\")\n",
    "plt.xlabel(\"Concentration (mM)\")\n",
    "plt.ylabel(\"Cell Count\")\n",
    "#plt.legend()\n",
    "plt.savefig(\"CountConcControl.png\")\n",
    "plt.show()"
   ]
  },
  {
   "cell_type": "code",
   "execution_count": 16,
   "metadata": {
    "collapsed": false
   },
   "outputs": [],
   "source": [
    "import svgutils.compose as sc\n",
    "from matplotlib.offsetbox import TextArea, DrawingArea, OffsetImage, AnnotationBbox"
   ]
  },
  {
   "cell_type": "code",
   "execution_count": null,
   "metadata": {
    "collapsed": false
   },
   "outputs": [],
   "source": [
    "fig, ax = plt.subplots(figsize=(10,10))\n",
    "size = fig.get_size_inches().tolist()\n",
    "size"
   ]
  },
  {
   "cell_type": "code",
   "execution_count": 89,
   "metadata": {
    "collapsed": false
   },
   "outputs": [
    {
     "ename": "SyntaxError",
     "evalue": "invalid syntax (<ipython-input-89-0e26066af742>, line 1)",
     "output_type": "error",
     "traceback": [
      "\u001b[0;36m  File \u001b[0;32m\"<ipython-input-89-0e26066af742>\"\u001b[0;36m, line \u001b[0;32m1\u001b[0m\n\u001b[0;31m    size.\u001b[0m\n\u001b[0m         ^\u001b[0m\n\u001b[0;31mSyntaxError\u001b[0m\u001b[0;31m:\u001b[0m invalid syntax\n"
     ]
    }
   ],
   "source": [
    "size."
   ]
  },
  {
   "cell_type": "code",
   "execution_count": 93,
   "metadata": {
    "collapsed": false
   },
   "outputs": [],
   "source": [
    "def convertToFigure(figsize):\n",
    "    figsize_cm = [i * 2.54 for i in figsize]\n",
    "    sc_x = str(figsize_cm[0]) + \"cm\"\n",
    "    sc_y = str(figsize_cm[1]) + \"cm\"\n",
    "    return sc_x, sc_y\n"
   ]
  },
  {
   "cell_type": "code",
   "execution_count": 100,
   "metadata": {
    "collapsed": false
   },
   "outputs": [
    {
     "data": {
      "text/plain": [
       "('25.4cm', '25.4cm')"
      ]
     },
     "execution_count": 100,
     "metadata": {},
     "output_type": "execute_result"
    }
   ],
   "source": [
    "convertToFigure([10, 10])"
   ]
  },
  {
   "cell_type": "code",
   "execution_count": 229,
   "metadata": {
    "collapsed": false
   },
   "outputs": [],
   "source": [
    "def generateCountConcGraphs(molp5_exp, path_prefix, excluded_reps, scale=False, gridlines=None):\n",
    "    exp_reps = get_obs_counts(molp5_exp)\n",
    "    for molecule in molp5_exp.molecules:\n",
    "        fig, ax = plt.subplots(figsize=(10,10))\n",
    "        for index, entry in enumerate(exp_reps):\n",
    "            if (index + 1) not in excluded_reps:\n",
    "                this_mol = entry.loc[entry['Molecule'] == molecule]\n",
    "                this_mol_con = this_mol['Concentration'].to_list()\n",
    "                con_processed = [math.log(2*i, 10) for i in this_mol_con]\n",
    "                if scale == True:\n",
    "                    this_mol_cell = this_mol['Count_Cells_Scaled'].to_list()\n",
    "                else:\n",
    "                    this_mol_cell = this_mol['Count_Cells'].to_list()\n",
    "                ax.scatter(con_processed, this_mol_cell, label=\"Replicate \" + str(index+1))\n",
    "        if scale == True:\n",
    "            ax.set_ylim(0, 1.75)\n",
    "        if gridlines == None:\n",
    "            withgrid = None\n",
    "        elif gridlines == 'gow':\n",
    "            withgrid = 'gow'\n",
    "            plt.grid(b=True, which='major', color='#A1A1A1', linestyle='-')\n",
    "        elif gridlines == 'wog':\n",
    "            withgrid = 'wog'\n",
    "            ax.set_facecolor('#E5E5E5')\n",
    "            plt.grid(b=True, which='major', color='#FFFFFF', linestyle='-')\n",
    "        else:\n",
    "            withgrid = None\n",
    "        if scale == True:\n",
    "            plt.title(\"Toxicity of \" + molecule)\n",
    "            plt.ylabel('Relative Viability (\\%)')\n",
    "        else:\n",
    "            if path_prefix == 'Ctrl':\n",
    "                plt.title(\"Experimental Cell Count vs. Concentration -- \" + control_moldict[molecule])\n",
    "            else:\n",
    "                plt.title(\"Experimental Cell Count vs. Concentration -- \" + molecule)\n",
    "            plt.ylabel(\"Cell Count\")\n",
    "        plt.xlabel(\"Concentration (log$_{10}$[\\\\textmu M])\")\n",
    "        plt.legend(\n",
    "        loc='upper center', bbox_to_anchor=(0.5, -0.1),\n",
    "            fancybox=True, shadow=True, ncol=5\n",
    "        )\n",
    "        if scale == True:\n",
    "            gtype = 'Scaled'\n",
    "        else:\n",
    "            gtype = 'Raw'\n",
    "        path = 'CountConc/' + path_prefix + '/' + gtype + '/'\n",
    "        figname = molecule + 'CountConc' + withgrid + '.svg'\n",
    "        total_path = path + figname\n",
    "        os.makedirs(os.path.dirname(total_path), exist_ok=True)\n",
    "        plt.savefig(total_path)\n",
    "        svg_x, svg_y = convertToFigure(fig.get_size_inches().tolist())\n",
    "        sc.Figure(\"20cm\", \"20cm\",\n",
    "            sc.Panel(\n",
    "                sc.SVG(total_path).scale(1),\n",
    "                sc.SVG('Images/' + path_prefix + '/' + molecule + '.svg').scale(1.75).move(100,525)\n",
    "            )\n",
    "                 ).save(path + \"test\" + molecule + withgrid + \".svg\")\n",
    "        plt.close('all')\n"
   ]
  },
  {
   "cell_type": "code",
   "execution_count": 233,
   "metadata": {
    "collapsed": false
   },
   "outputs": [],
   "source": [
    "control_moldict = {\n",
    "    \"XK00000498\": \"Taxol\",\n",
    "    \"XK00001539\": \"Vincristine\",\n",
    "    \"XK00001540\": \"Latrunculin B\",\n",
    "    \"XK00001541\": \"Etoposide\",\n",
    "    \"XK00001542\": \"Berberine chloride\",\n",
    "    \"XK00001543\": \"Cytochalasin D\",\n",
    "    \"XK00001544\": \"Fenbendazole\",\n",
    "    \"XK00001545\": \"Rotenone\",\n",
    "    \"XK00001546\": \"5-Nitro-2-(3-phenylpropylamino)benzoic acid\",\n",
    "    \"XK00001547\": \"SB 203580\",\n",
    "    \"XK00001548\": \"Methyl Ester of CA-074\",\n",
    "    \"XK00001549\": \"Tetrandrine\",\n",
    "    \"XK00001550\": \"Rapamycin\"\n",
    "}"
   ]
  },
  {
   "cell_type": "code",
   "execution_count": null,
   "metadata": {
    "collapsed": false
   },
   "outputs": [],
   "source": [
    "generateCountConcGraphs(MyTest, 'Exp', excluded_reps = [3], scale=False, gridlines='wog')\n",
    "generateCountConcGraphs(MyTest, 'Exp', excluded_reps = [3], scale=True, gridlines='wog')"
   ]
  },
  {
   "cell_type": "code",
   "execution_count": null,
   "metadata": {
    "collapsed": false
   },
   "outputs": [],
   "source": [
    "generateCountConcGraphs(control_exp, 'Ctrl', excluded_reps = [], scale=False, gridlines='wog')\n",
    "generateCountConcGraphs(control_exp, 'Ctrl', excluded_reps = [ ], scale=True, gridlines='wog')"
   ]
  },
  {
   "cell_type": "code",
   "execution_count": null,
   "metadata": {
    "collapsed": false
   },
   "outputs": [],
   "source": [
    "test"
   ]
  },
  {
   "cell_type": "code",
   "execution_count": 8,
   "metadata": {
    "collapsed": false
   },
   "outputs": [],
   "source": [
    "def plot_distance_raw(ax, vec, label):\n",
    "    ax.plot([row[0] for row in vec], [row[1] for row in vec], label=label, marker='o')\n",
    "    ax.legend()\n",
    "    return ax"
   ]
  },
  {
   "cell_type": "code",
   "execution_count": 9,
   "metadata": {
    "collapsed": false
   },
   "outputs": [],
   "source": [
    "def plot_distance_logx(ax, vec, label):\n",
    "    ax.plot([math.log(row[0],10) for row in vec], [row[1] for row in vec], label=label, marker='o')\n",
    "    ax.legend()\n",
    "    return ax"
   ]
  },
  {
   "cell_type": "code",
   "execution_count": 10,
   "metadata": {
    "collapsed": false
   },
   "outputs": [],
   "source": [
    "def plot_distance_logy(ax, vec, label):\n",
    "    ax.plot([row[0] for row in vec], [math.log(row[1],10) for row in vec], label=label, marker='o')\n",
    "    ax.legend()\n",
    "    return ax"
   ]
  },
  {
   "cell_type": "code",
   "execution_count": 11,
   "metadata": {
    "collapsed": false
   },
   "outputs": [],
   "source": [
    "def plot_distance_logxlogy(ax, vec, label):\n",
    "    ax.plot([math.log(row[0],10) for row in vec], [math.log(row[1],10) for row in vec], label=label, marker='o')\n",
    "    ax.legend()\n",
    "    return ax"
   ]
  },
  {
   "cell_type": "code",
   "execution_count": null,
   "metadata": {
    "collapsed": false
   },
   "outputs": [],
   "source": [
    "def plot_fingerprint(ax, fp, label, ymin, ymax):\n",
    "    ax.plot(range(0, len(fp)), fp, linewidth = 0.8, label=label)\n",
    "    ax.set_xlim([0, len(fp)])\n",
    "    ax.set_ylim([ymin,ymax])\n",
    "    return ax"
   ]
  },
  {
   "cell_type": "code",
   "execution_count": 13,
   "metadata": {
    "collapsed": false
   },
   "outputs": [],
   "source": [
    "def plot_doser(ax, xvals, yvals, label):\n",
    "    #xvals = [math.log(val,10) for val in xvals]\n",
    "    ax.plot(xvals, yvals, label=label, marker='o')\n",
    "    ax.set_xlim([min(xvals),max(xvals)])\n",
    "    ax.set_ylim([min(yvals),max(yvals)])\n",
    "    return ax"
   ]
  },
  {
   "cell_type": "code",
   "execution_count": 14,
   "metadata": {
    "collapsed": false
   },
   "outputs": [],
   "source": [
    "def GenerateFingerprintCSVs(molp5_exp, path_prefix, consolidate=False):\n",
    "    if consolidate:\n",
    "        fingerprints = pd.DataFrame()\n",
    "    for rep in range(1, molp5_exp.replicates + 1):\n",
    "        if not consolidate:\n",
    "            fingerprints = pd.DataFrame()\n",
    "        for molecule in molp5_exp.molecules:\n",
    "            for conc in molp5_exp.concentrs:\n",
    "                this_fp = pd.DataFrame()\n",
    "                if consolidate:\n",
    "                    this_fp[\"Replicate\"] = [rep]\n",
    "                this_fp[\"Molecule\"] = [molecule]\n",
    "                this_fp['Concentration'] = [conc]\n",
    "                this_data = molp5_exp.getCompoundFingerprint(molecule, conc, rep)\n",
    "                if this_data is None:\n",
    "                    continue\n",
    "                else:\n",
    "                    final = this_fp.merge(this_data, how='outer', left_index=True, right_index=True)\n",
    "                    fingerprints = fingerprints.append(final)\n",
    "        if not consolidate:\n",
    "            path = path_prefix + str(rep) + '/Fingerprints/' + path_prefix + str(rep) + '.csv'\n",
    "            os.makedirs(os.path.dirname(path), exist_ok=True)\n",
    "            fingerprints.to_csv(path, header=True) #, dpi=300)\n",
    "    if consolidate:\n",
    "        path = 'Aggregate/' + path_prefix + '_fingerprints.csv'\n",
    "        os.makedirs(os.path.dirname(path), exist_ok=True)\n",
    "        fingerprints.to_csv(path, header=True) #, dpi=300)\n",
    "\n"
   ]
  },
  {
   "cell_type": "code",
   "execution_count": 28,
   "metadata": {
    "collapsed": false
   },
   "outputs": [
    {
     "name": "stdout",
     "output_type": "stream",
     "text": [
      "Saving to aggregate folder\n"
     ]
    }
   ],
   "source": [
    "GenerateFingerprintCSVs(MyTest, 'Reps', consolidate=True)"
   ]
  },
  {
   "cell_type": "code",
   "execution_count": 29,
   "metadata": {
    "collapsed": false
   },
   "outputs": [
    {
     "name": "stdout",
     "output_type": "stream",
     "text": [
      "Saving to aggregate folder\n"
     ]
    }
   ],
   "source": [
    "GenerateFingerprintCSVs(control_exp, 'Ctrl', consolidate=True)"
   ]
  },
  {
   "cell_type": "code",
   "execution_count": 237,
   "metadata": {
    "collapsed": false
   },
   "outputs": [],
   "source": [
    "# Plot all fingerprints, all concentrations overlaid (by-replicate)\n",
    "def GenerateAllConcFingerprintGraphs(molp5_exp, path_prefix):\n",
    "    for rep in range(1, molp5_exp.replicates + 1):\n",
    "        for molecule in molp5_exp.molecules:\n",
    "            fig, ax = plt.subplots(figsize=(30,10))\n",
    "            fig.patch.set_facecolor('white')\n",
    "            if path_prefix == 'Ctrl':\n",
    "                    plt.title('Fingerprint Overlay of ' + control_moldict[molecule] + '; Replicate' + str(rep))\n",
    "            else:\n",
    "                    plt.title('Fingerprint Overlay of ' + molecule + '; Replicate' + str(rep))\n",
    "            for conc in molp5_exp.concentrs:\n",
    "                extremes = molp5_exp.getExtremesInFingerprintSeries(molecule, conc, rep)\n",
    "                this_fp = molp5_exp.getCompoundFingerprint(molecule, conc, rep, 'list')\n",
    "                if this_fp is None:\n",
    "                    continue\n",
    "                else:\n",
    "                    plot_fingerprint(ax,\n",
    "                                     molp5_exp.getCompoundFingerprint(molecule, conc, rep, 'list'),\n",
    "                                     label=f\"{conc:.3f}\", ymin=extremes[0], ymax=extremes[1])\n",
    "                    plt.legend(loc='upper right')\n",
    "                    plt.ylabel('Difference from DMSO')\n",
    "                    plt.xlabel('Mean Feature')\n",
    "            path_conc = f\"{conc:.2f}\".replace('.', ',')\n",
    "            path = path_prefix + str(rep) + '/Fingerprints/Aggregated/' + molecule + '.png'\n",
    "            os.makedirs(os.path.dirname(path), exist_ok=True)\n",
    "            plt.savefig(path, dpi=300)\n",
    "            plt.close('all')"
   ]
  },
  {
   "cell_type": "code",
   "execution_count": 238,
   "metadata": {
    "collapsed": false
   },
   "outputs": [],
   "source": [
    "GenerateAllConcFingerprintGraphs(MyTest, 'Rep')\n",
    "GenerateAllConcFingerprintGraphs(control_exp, 'Ctrl')"
   ]
  },
  {
   "cell_type": "code",
   "execution_count": 241,
   "metadata": {
    "collapsed": false
   },
   "outputs": [],
   "source": [
    "# Plot all fingerprints, one by one\n",
    "def GenerateSingleConcFingerprints(molp5_exp, path_prefix):\n",
    "    for rep in range(1, 4):\n",
    "        for molecule in molp5_exp.molecules:\n",
    "            for conc in molp5_exp.concentrs:\n",
    "                fig, ax = plt.subplots(figsize=(10,5))\n",
    "                fig.patch.set_facecolor('white')\n",
    "                if path_prefix == 'Ctrl':\n",
    "                    plt.title('Fingerprint of ' + control_moldict[molecule] + '; Replicate' + str(rep))\n",
    "                else:\n",
    "                    plt.title('Fingerprint of ' + molecule + '; Replicate' + str(rep))\n",
    "                this_fp = molp5_exp.getCompoundFingerprint(molecule, conc, rep, 'list')\n",
    "                if this_fp is None: continue\n",
    "                else:\n",
    "                    this_min = min(this_fp)\n",
    "                    this_max = max(this_fp)\n",
    "                    plot_fingerprint(ax,\n",
    "                                     molp5_exp.getCompoundFingerprint(molecule, conc, rep, 'list'),\n",
    "                                     label=molecule, ymin=this_min, ymax=this_max)\n",
    "                    plt.legend()\n",
    "                    plt.ylabel('Difference from DMSO Average at Feature')\n",
    "                    plt.xlabel('Feature')\n",
    "                    path_conc = f\"{conc:.2f}\".replace('.', ',')\n",
    "                    path = path_prefix + str(rep) + '/Fingerprints/Single/' + path_conc + '/' + molecule + '.png'\n",
    "                    os.makedirs(os.path.dirname(path), exist_ok=True)\n",
    "                    plt.savefig(path, dpi=300)\n",
    "                    plt.close('all')\n",
    "#plt.show()"
   ]
  },
  {
   "cell_type": "code",
   "execution_count": null,
   "metadata": {
    "collapsed": false
   },
   "outputs": [],
   "source": [
    "GenerateSingleConcFingerprints(control_exp, 'Ctrl')"
   ]
  },
  {
   "cell_type": "code",
   "execution_count": null,
   "metadata": {
    "collapsed": false
   },
   "outputs": [],
   "source": [
    "# For each replicate, plot for each molecule \n",
    "for rep in range(1, 4):\n",
    "    for molecule in MyTest.molecules:\n",
    "        fig, ax = plt.subplots(figsize=(30,10))\n",
    "        fig.patch.set_facecolor('white')\n",
    "        plt.title('Fingerprint Overlay of ' + molecule + '; Replicate' + str(rep))\n",
    "        for conc in MyTest.concentrs:\n",
    "            this_fp = MyTest.getCompoundFingerprint(molecule, conc, rep, 'list')\n",
    "            if this_fp is None: continue\n",
    "            else:\n",
    "                plot_fingerprint(ax,\n",
    "                                 this_fp,\n",
    "                                 label=str(conc))\n",
    "                plt.legend()\n",
    "        path_conc = f\"{conc:.2f}\".replace('.', ',')\n",
    "        path = 'Rep' + str(rep) + '/Fingerprints/Aggregated/By-Conc/' + molecule + '.png'\n",
    "        os.makedirs(os.path.dirname(path), exist_ok=True)\n",
    "        plt.savefig(path, dpi=300)\n",
    "        plt.close('all')"
   ]
  },
  {
   "cell_type": "code",
   "execution_count": null,
   "metadata": {
    "collapsed": false
   },
   "outputs": [],
   "source": [
    "# For each molecule-concentration pair, plot the result for each replicate\n",
    "# TODO (Urgently): Calculate correlation coefficients for these replicates\n",
    "# and generate a matrix of them \n",
    "def GenerateFPReplicateOverlays(molp5_exp, path_prefix):\n",
    "    for molecule in molp5_exp.molecules[:3]:\n",
    "        for conc in molp5_exp.concentrs:\n",
    "            fig, ax = plt.subplots(figsize=(30,10))\n",
    "            fig.patch.set_facecolor('white')\n",
    "            if path_prefix == 'Ctrl':\n",
    "                plt.title('Fingerprint Overlay of ' + control_moldict[molecule] + ' at ' + f\"{conc:.3f}mM\")\n",
    "            else:\n",
    "                plt.title('Fingerprint Overlay of ' + molecule + ' at ' + f\"{conc:.3f}mM\")\n",
    "            for rep in range(1, 4):\n",
    "                this_fp = molp5_exp.getCompoundFingerprint(molecule, conc, rep, 'list')\n",
    "                extremes = molp5_exp.getExtremesAcrossReplicates(molecule, conc)\n",
    "                if this_fp is None:\n",
    "                    continue\n",
    "                else:\n",
    "                    plot_fingerprint(ax,\n",
    "                                     this_fp,\n",
    "                                     label=\"Replicate \" + str(rep),\n",
    "                                     ymin=extremes[0], ymax=extremes[1])\n",
    "            plt.legend(loc='upper right')\n",
    "            plt.ylabel('Difference from DMSO Average at Feature')\n",
    "            plt.xlabel('Feature')\n",
    "            path_conc = f\"{conc:.2f}\".replace('.', ',')\n",
    "            path = 'Aggregate/' + path_prefix + '/Fingerprints/By-Conc/' + path_conc + '/' + molecule + '.png'\n",
    "            os.makedirs(os.path.dirname(path), exist_ok=True)\n",
    "            plt.savefig(path, dpi=300)\n",
    "            plt.close('all')"
   ]
  },
  {
   "cell_type": "code",
   "execution_count": 240,
   "metadata": {
    "collapsed": false
   },
   "outputs": [
    {
     "name": "stderr",
     "output_type": "stream",
     "text": [
      "No handles with labels found to put in legend.\n"
     ]
    },
    {
     "name": "stderr",
     "output_type": "stream",
     "text": [
      "No handles with labels found to put in legend.\n"
     ]
    },
    {
     "name": "stderr",
     "output_type": "stream",
     "text": [
      "No handles with labels found to put in legend.\n"
     ]
    },
    {
     "name": "stderr",
     "output_type": "stream",
     "text": [
      "No handles with labels found to put in legend.\n"
     ]
    },
    {
     "name": "stderr",
     "output_type": "stream",
     "text": [
      "No handles with labels found to put in legend.\n"
     ]
    },
    {
     "name": "stderr",
     "output_type": "stream",
     "text": [
      "No handles with labels found to put in legend.\n"
     ]
    },
    {
     "name": "stderr",
     "output_type": "stream",
     "text": [
      "No handles with labels found to put in legend.\n"
     ]
    },
    {
     "name": "stderr",
     "output_type": "stream",
     "text": [
      "No handles with labels found to put in legend.\n"
     ]
    },
    {
     "name": "stderr",
     "output_type": "stream",
     "text": [
      "No handles with labels found to put in legend.\n"
     ]
    },
    {
     "name": "stderr",
     "output_type": "stream",
     "text": [
      "No handles with labels found to put in legend.\n"
     ]
    },
    {
     "name": "stderr",
     "output_type": "stream",
     "text": [
      "No handles with labels found to put in legend.\n"
     ]
    },
    {
     "name": "stderr",
     "output_type": "stream",
     "text": [
      "No handles with labels found to put in legend.\n"
     ]
    },
    {
     "name": "stderr",
     "output_type": "stream",
     "text": [
      "No handles with labels found to put in legend.\n"
     ]
    },
    {
     "name": "stderr",
     "output_type": "stream",
     "text": [
      "No handles with labels found to put in legend.\n"
     ]
    },
    {
     "name": "stderr",
     "output_type": "stream",
     "text": [
      "No handles with labels found to put in legend.\n"
     ]
    },
    {
     "name": "stderr",
     "output_type": "stream",
     "text": [
      "No handles with labels found to put in legend.\n"
     ]
    },
    {
     "name": "stderr",
     "output_type": "stream",
     "text": [
      "No handles with labels found to put in legend.\n"
     ]
    },
    {
     "name": "stderr",
     "output_type": "stream",
     "text": [
      "No handles with labels found to put in legend.\n"
     ]
    },
    {
     "name": "stderr",
     "output_type": "stream",
     "text": [
      "No handles with labels found to put in legend.\n"
     ]
    },
    {
     "name": "stderr",
     "output_type": "stream",
     "text": [
      "No handles with labels found to put in legend.\n"
     ]
    },
    {
     "name": "stderr",
     "output_type": "stream",
     "text": [
      "No handles with labels found to put in legend.\n"
     ]
    },
    {
     "name": "stderr",
     "output_type": "stream",
     "text": [
      "No handles with labels found to put in legend.\n"
     ]
    },
    {
     "name": "stderr",
     "output_type": "stream",
     "text": [
      "No handles with labels found to put in legend.\n"
     ]
    },
    {
     "name": "stderr",
     "output_type": "stream",
     "text": [
      "No handles with labels found to put in legend.\n"
     ]
    },
    {
     "name": "stderr",
     "output_type": "stream",
     "text": [
      "No handles with labels found to put in legend.\n"
     ]
    },
    {
     "name": "stderr",
     "output_type": "stream",
     "text": [
      "No handles with labels found to put in legend.\n"
     ]
    },
    {
     "name": "stderr",
     "output_type": "stream",
     "text": [
      "No handles with labels found to put in legend.\n"
     ]
    },
    {
     "name": "stderr",
     "output_type": "stream",
     "text": [
      "No handles with labels found to put in legend.\n"
     ]
    },
    {
     "name": "stderr",
     "output_type": "stream",
     "text": [
      "No handles with labels found to put in legend.\n"
     ]
    },
    {
     "name": "stderr",
     "output_type": "stream",
     "text": [
      "No handles with labels found to put in legend.\n"
     ]
    },
    {
     "name": "stderr",
     "output_type": "stream",
     "text": [
      "No handles with labels found to put in legend.\n"
     ]
    },
    {
     "name": "stderr",
     "output_type": "stream",
     "text": [
      "No handles with labels found to put in legend.\n"
     ]
    },
    {
     "name": "stderr",
     "output_type": "stream",
     "text": [
      "No handles with labels found to put in legend.\n"
     ]
    },
    {
     "name": "stderr",
     "output_type": "stream",
     "text": [
      "No handles with labels found to put in legend.\n"
     ]
    },
    {
     "name": "stderr",
     "output_type": "stream",
     "text": [
      "No handles with labels found to put in legend.\n"
     ]
    },
    {
     "name": "stderr",
     "output_type": "stream",
     "text": [
      "No handles with labels found to put in legend.\n"
     ]
    },
    {
     "name": "stderr",
     "output_type": "stream",
     "text": [
      "No handles with labels found to put in legend.\n"
     ]
    },
    {
     "name": "stderr",
     "output_type": "stream",
     "text": [
      "No handles with labels found to put in legend.\n"
     ]
    },
    {
     "name": "stderr",
     "output_type": "stream",
     "text": [
      "No handles with labels found to put in legend.\n"
     ]
    },
    {
     "name": "stderr",
     "output_type": "stream",
     "text": [
      "No handles with labels found to put in legend.\n"
     ]
    },
    {
     "name": "stderr",
     "output_type": "stream",
     "text": [
      "No handles with labels found to put in legend.\n"
     ]
    },
    {
     "name": "stderr",
     "output_type": "stream",
     "text": [
      "No handles with labels found to put in legend.\n"
     ]
    },
    {
     "name": "stderr",
     "output_type": "stream",
     "text": [
      "No handles with labels found to put in legend.\n"
     ]
    },
    {
     "name": "stderr",
     "output_type": "stream",
     "text": [
      "No handles with labels found to put in legend.\n"
     ]
    },
    {
     "name": "stderr",
     "output_type": "stream",
     "text": [
      "No handles with labels found to put in legend.\n"
     ]
    },
    {
     "name": "stderr",
     "output_type": "stream",
     "text": [
      "No handles with labels found to put in legend.\n"
     ]
    },
    {
     "name": "stderr",
     "output_type": "stream",
     "text": [
      "No handles with labels found to put in legend.\n"
     ]
    },
    {
     "name": "stderr",
     "output_type": "stream",
     "text": [
      "No handles with labels found to put in legend.\n"
     ]
    },
    {
     "name": "stderr",
     "output_type": "stream",
     "text": [
      "No handles with labels found to put in legend.\n"
     ]
    },
    {
     "name": "stderr",
     "output_type": "stream",
     "text": [
      "No handles with labels found to put in legend.\n"
     ]
    },
    {
     "name": "stderr",
     "output_type": "stream",
     "text": [
      "No handles with labels found to put in legend.\n"
     ]
    },
    {
     "name": "stderr",
     "output_type": "stream",
     "text": [
      "No handles with labels found to put in legend.\n"
     ]
    },
    {
     "name": "stderr",
     "output_type": "stream",
     "text": [
      "No handles with labels found to put in legend.\n"
     ]
    },
    {
     "name": "stderr",
     "output_type": "stream",
     "text": [
      "No handles with labels found to put in legend.\n"
     ]
    },
    {
     "name": "stderr",
     "output_type": "stream",
     "text": [
      "No handles with labels found to put in legend.\n"
     ]
    },
    {
     "name": "stderr",
     "output_type": "stream",
     "text": [
      "No handles with labels found to put in legend.\n"
     ]
    },
    {
     "name": "stderr",
     "output_type": "stream",
     "text": [
      "No handles with labels found to put in legend.\n"
     ]
    },
    {
     "name": "stderr",
     "output_type": "stream",
     "text": [
      "No handles with labels found to put in legend.\n"
     ]
    },
    {
     "name": "stderr",
     "output_type": "stream",
     "text": [
      "No handles with labels found to put in legend.\n"
     ]
    },
    {
     "name": "stderr",
     "output_type": "stream",
     "text": [
      "No handles with labels found to put in legend.\n"
     ]
    },
    {
     "name": "stderr",
     "output_type": "stream",
     "text": [
      "No handles with labels found to put in legend.\n"
     ]
    },
    {
     "name": "stderr",
     "output_type": "stream",
     "text": [
      "No handles with labels found to put in legend.\n"
     ]
    },
    {
     "name": "stderr",
     "output_type": "stream",
     "text": [
      "No handles with labels found to put in legend.\n"
     ]
    },
    {
     "name": "stderr",
     "output_type": "stream",
     "text": [
      "No handles with labels found to put in legend.\n"
     ]
    },
    {
     "name": "stderr",
     "output_type": "stream",
     "text": [
      "No handles with labels found to put in legend.\n"
     ]
    },
    {
     "name": "stderr",
     "output_type": "stream",
     "text": [
      "No handles with labels found to put in legend.\n"
     ]
    },
    {
     "name": "stderr",
     "output_type": "stream",
     "text": [
      "No handles with labels found to put in legend.\n"
     ]
    },
    {
     "name": "stderr",
     "output_type": "stream",
     "text": [
      "No handles with labels found to put in legend.\n"
     ]
    },
    {
     "name": "stderr",
     "output_type": "stream",
     "text": [
      "No handles with labels found to put in legend.\n"
     ]
    },
    {
     "name": "stderr",
     "output_type": "stream",
     "text": [
      "No handles with labels found to put in legend.\n"
     ]
    },
    {
     "name": "stderr",
     "output_type": "stream",
     "text": [
      "No handles with labels found to put in legend.\n"
     ]
    },
    {
     "name": "stderr",
     "output_type": "stream",
     "text": [
      "No handles with labels found to put in legend.\n"
     ]
    },
    {
     "name": "stderr",
     "output_type": "stream",
     "text": [
      "No handles with labels found to put in legend.\n"
     ]
    },
    {
     "name": "stderr",
     "output_type": "stream",
     "text": [
      "No handles with labels found to put in legend.\n"
     ]
    },
    {
     "name": "stderr",
     "output_type": "stream",
     "text": [
      "No handles with labels found to put in legend.\n"
     ]
    },
    {
     "name": "stderr",
     "output_type": "stream",
     "text": [
      "No handles with labels found to put in legend.\n"
     ]
    },
    {
     "name": "stderr",
     "output_type": "stream",
     "text": [
      "No handles with labels found to put in legend.\n"
     ]
    },
    {
     "name": "stderr",
     "output_type": "stream",
     "text": [
      "No handles with labels found to put in legend.\n"
     ]
    },
    {
     "name": "stderr",
     "output_type": "stream",
     "text": [
      "No handles with labels found to put in legend.\n"
     ]
    },
    {
     "name": "stderr",
     "output_type": "stream",
     "text": [
      "No handles with labels found to put in legend.\n"
     ]
    },
    {
     "name": "stderr",
     "output_type": "stream",
     "text": [
      "No handles with labels found to put in legend.\n"
     ]
    },
    {
     "name": "stderr",
     "output_type": "stream",
     "text": [
      "No handles with labels found to put in legend.\n"
     ]
    },
    {
     "name": "stderr",
     "output_type": "stream",
     "text": [
      "No handles with labels found to put in legend.\n"
     ]
    },
    {
     "name": "stderr",
     "output_type": "stream",
     "text": [
      "No handles with labels found to put in legend.\n"
     ]
    },
    {
     "name": "stderr",
     "output_type": "stream",
     "text": [
      "No handles with labels found to put in legend.\n"
     ]
    },
    {
     "name": "stderr",
     "output_type": "stream",
     "text": [
      "No handles with labels found to put in legend.\n"
     ]
    },
    {
     "name": "stderr",
     "output_type": "stream",
     "text": [
      "No handles with labels found to put in legend.\n"
     ]
    },
    {
     "name": "stderr",
     "output_type": "stream",
     "text": [
      "No handles with labels found to put in legend.\n"
     ]
    },
    {
     "name": "stderr",
     "output_type": "stream",
     "text": [
      "No handles with labels found to put in legend.\n"
     ]
    }
   ],
   "source": [
    "GenerateFPReplicateOverlays(MyTest, 'Rep')\n",
    "GenerateFPReplicateOverlays(control_exp, 'Ctrl')\n"
   ]
  },
  {
   "cell_type": "code",
   "execution_count": 82,
   "metadata": {
    "collapsed": false
   },
   "outputs": [],
   "source": [
    "# log scale on neither axis\n",
    "for molecule in MyTest.molecules:\n",
    "    fig, ax = plt.subplots(figsize=(20,10))\n",
    "    fig.patch.set_facecolor('white')\n",
    "    plt.title('Size of ' + molecule + ' Vector at Each Concentration')\n",
    "    for rep in range(1,4):\n",
    "        plot_distance_raw(ax,\n",
    "                          MyTest.getAllDistances(molecule, rep),\n",
    "                          label='Replicate ' + str(rep))\n",
    "    plt.ylabel('Magnitude')\n",
    "    plt.xlabel('Concentration')\n",
    "    plt.legend()\n",
    "    path = 'Aggregate/Reps/Distances_Raw/' + molecule + '.png'\n",
    "    os.makedirs(os.path.dirname(path), exist_ok=True)\n",
    "    plt.savefig(path, dpi=300)\n",
    "    plt.close('all')"
   ]
  },
  {
   "cell_type": "code",
   "execution_count": 83,
   "metadata": {
    "collapsed": false
   },
   "outputs": [],
   "source": [
    "# log scale on x-axis \n",
    "for molecule in MyTest.molecules:\n",
    "    fig, ax = plt.subplots(figsize=(20,10))\n",
    "    fig.patch.set_facecolor('white')\n",
    "    plt.title('Size of ' + molecule + ' Vector at Each Concentration')\n",
    "    for rep in range(1,4):\n",
    "        plot_distance_logx(ax,\n",
    "                      MyTest.getAllDistances(molecule, rep),\n",
    "                      label='Replicate ' + str(rep))\n",
    "    plt.ylabel('Magnitude')\n",
    "    plt.xlabel('Log_{10}(Concentration)')\n",
    "    plt.legend()\n",
    "    path = 'Aggregate/Reps/Distances_Logx/' + molecule + '.png'\n",
    "    os.makedirs(os.path.dirname(path), exist_ok=True)\n",
    "    plt.savefig(path, dpi=300)\n",
    "    plt.close('all')\n",
    "#plt.show()"
   ]
  },
  {
   "cell_type": "code",
   "execution_count": 85,
   "metadata": {
    "collapsed": false
   },
   "outputs": [],
   "source": [
    "# log scale on y-axis\n",
    "for molecule in MyTest.molecules:\n",
    "    fig, ax = plt.subplots(figsize=(20,10))\n",
    "    fig.patch.set_facecolor('white')\n",
    "    plt.title('Size of ' + molecule + ' Vector at Each Concentration')\n",
    "    for rep in range(1,4):\n",
    "        plot_distance_logy(ax,\n",
    "                      MyTest.getAllDistances(molecule, rep),\n",
    "                      label='Replicate ' + str(rep))\n",
    "    plt.ylabel('Log_{10}(Magnitude)')\n",
    "    plt.xlabel('Concentration')\n",
    "    plt.legend()\n",
    "    path = 'Aggregate/Reps/Distances_Logy/' + molecule + '.png'\n",
    "    os.makedirs(os.path.dirname(path), exist_ok=True)\n",
    "    plt.savefig(path, dpi=300)\n",
    "    plt.close('all')\n",
    "#plt.show()"
   ]
  },
  {
   "cell_type": "code",
   "execution_count": 104,
   "metadata": {
    "collapsed": false
   },
   "outputs": [],
   "source": [
    "# log scale on y-axis\n",
    "for molecule in MyTest.molecules:\n",
    "    fig, ax = plt.subplots(figsize=(20,10))\n",
    "    fig.patch.set_facecolor('white')\n",
    "    plt.title('Size of ' + molecule + ' Vector at Each Concentration')\n",
    "    for rep in range(1,4):\n",
    "        plot_distance_logxlogy(ax,\n",
    "                      MyTest.getAllDistances(molecule, rep),\n",
    "                      label='Replicate ' + str(rep))\n",
    "    plt.ylabel('Log_{10}(Magnitude)')\n",
    "    plt.xlabel('Log_{10}(Concentration)')\n",
    "    plt.legend()\n",
    "    path = 'Aggregate/Reps/Distances_Logx_Logy/' + molecule + '.png'\n",
    "    os.makedirs(os.path.dirname(path), exist_ok=True)\n",
    "    plt.savefig(path, dpi=300)\n",
    "    plt.close('all')\n",
    "#plt.show()"
   ]
  },
  {
   "cell_type": "code",
   "execution_count": 17,
   "metadata": {
    "collapsed": false
   },
   "outputs": [],
   "source": [
    "# Plot all for comparison\n",
    "for molecule in MyTest.molecules:\n",
    "    fig, ((ax1, ax2), (ax3, ax4)) = plt.subplots(2,2,figsize=(40,20))\n",
    "    # Add big axis for common labels\n",
    "    fig.patch.set_facecolor('white')\n",
    "    plt.suptitle('Size of ' + molecule + ' Vector at Each Concentration', fontsize=22)\n",
    "    for rep in range(1,MyTest.replicates + 1):\n",
    "        plot_distance_raw(ax1,\n",
    "                          MyTest.getAllDistances(molecule, rep),\n",
    "                          label='Replicate ' + str(rep))\n",
    "        plot_distance_logx(ax2,\n",
    "                           MyTest.getAllDistances(molecule, rep),\n",
    "                           label='Replicate ' + str(rep))\n",
    "        plot_distance_logy(ax3,\n",
    "                           MyTest.getAllDistances(molecule, rep),\n",
    "                           label='Replicate ' + str(rep))\n",
    "        plot_distance_logxlogy(ax4,\n",
    "                               MyTest.getAllDistances(molecule, rep),\n",
    "                               label='Replicate ' + str(rep))\n",
    "\n",
    "    ax1.set_xlabel('Concentration', fontsize=16)\n",
    "    ax1.set_ylabel('Magnitude', fontsize=16)\n",
    "\n",
    "    ax2.set_xlabel('Log$_{10}$(Concentration)', fontsize=16)\n",
    "    ax2.set_ylabel('Magnitude', fontsize=16)\n",
    "\n",
    "    ax3.set_xlabel('Concentration', fontsize=16)\n",
    "    ax3.set_ylabel('Log$_{10}$(Magnitude)', fontsize=16)\n",
    "\n",
    "    ax4.set_xlabel('Log$_{10}$(Concentration)', fontsize=16)\n",
    "    ax4.set_ylabel('Log$_{10}$(Magnitude)', fontsize=16)\n",
    "\n",
    "    plt.legend()\n",
    "    path = 'Aggregate/Reps/4x4DistanceGrid/' + molecule + '.png'\n",
    "    os.makedirs(os.path.dirname(path), exist_ok=True)\n",
    "    plt.savefig(path, dpi=300)\n",
    "    plt.close()\n",
    "#plt.show()"
   ]
  },
  {
   "cell_type": "code",
   "execution_count": null,
   "metadata": {
    "collapsed": false
   },
   "outputs": [],
   "source": [
    "# Dose-response curves\n",
    "# WARNING: THIS TAKES A TON OF RAM AND A VERY LONG TIME\n",
    "# I ADVISE YOU DO ONE REPLICATE AT A TIME \n",
    "#for rep in range(1, 4):\n",
    "for molecule in MyTest.molecules:\n",
    "    print(\"Generating images for \" + molecule + \" in replicate \" + str(1))\n",
    "    temp_df = pd.DataFrame()\n",
    "    concentrations = []\n",
    "    for conc in MyTest.concentrs:\n",
    "        temp_df_2 = MyTest.getCompoundFingerprint(molecule, conc, 1)\n",
    "        if temp_df_2 is None:\n",
    "            continue\n",
    "        else:\n",
    "            temp_df = temp_df.append(temp_df_2)\n",
    "            concentrations.append(conc)\n",
    "    concentrations.reverse()\n",
    "    for index, feature in enumerate(MyTest.features_daccess):\n",
    "        temp_list = temp_df[feature].to_list()\n",
    "        fig, ax = plt.subplots(figsize=(10,5))\n",
    "        fig.patch.set_facecolor('white')\n",
    "        plt.title('Dose-Response Curve: ' + MyTest.features_human[index] + ' for ' + molecule + ' in Replicate ' + str(1) + ' (Unscaled)')\n",
    "        plot_doser(ax, concentrations, temp_list, 'test')\n",
    "        plt.ylabel('Raw Response')\n",
    "        plt.xlabel('Dose')\n",
    "        path = 'Rep' + str(1) + '/DoseRCs/By-Molecule/' + molecule + '/' + MyTest.features_daccess[index] + '.png'\n",
    "        os.makedirs(os.path.dirname(path), exist_ok=True)\n",
    "        plt.savefig(path) #,dpi=300)\n",
    "        plt.close('all')"
   ]
  },
  {
   "cell_type": "code",
   "execution_count": 21,
   "metadata": {
    "collapsed": false
   },
   "outputs": [],
   "source": [
    "# A dose-response fingerprint is generated like this:\n",
    "# Take a molecule\n",
    "# Generate all of its fingerprints at every concentration\n",
    "# For each feature in the fingerprint\n",
    "# Take the linear regression of the feature values vs concentration\n",
    "# Find the M and R^2 values from the linear regression\n",
    "# Plot M. This shows us which features are positively or negatively associated with concentration.\n",
    "# TODO (Urgently): Change linear regression to logistic regression\n",
    "def GenerateDoseResponseFingerprint(molp5_exp, positive_threshold, negative_threshold, r2_threshold, path_prefix):\n",
    "    for rep in range(1, molp5_exp.replicates+1):\n",
    "        for molecule in molp5_exp.molecules:\n",
    "            temp_df = pd.DataFrame()\n",
    "            m_values = []\n",
    "            r2_values = []\n",
    "            concentrations = []\n",
    "            good_r2_values = []\n",
    "            very_positive_slopes = []\n",
    "            very_negative_slopes = []\n",
    "            fig, ax = plt.subplots(figsize=(20,10))\n",
    "            fig.patch.set_facecolor('white')\n",
    "            plt.title('Dose-Response Fingerprint for ' + molecule + ' in Replicate ' + str(rep) + ' (Unscaled)')\n",
    "            for conc in molp5_exp.concentrs:\n",
    "                temp_df_2 = molp5_exp.getCompoundFingerprint(molecule, conc, rep)\n",
    "                if temp_df_2 is None:\n",
    "                    continue\n",
    "                else:\n",
    "                    temp_df = temp_df.append(temp_df_2)\n",
    "                    concentrations.append(conc)\n",
    "            concentrations.reverse()\n",
    "            for index, feature in enumerate(molp5_exp.features_daccess):\n",
    "                temp_list = temp_df[feature].to_list()\n",
    "                regression = scipy.stats.linregress(concentrations, temp_list)\n",
    "                m_values.append(regression.slope)\n",
    "                r2_values.append(regression.rvalue**2)\n",
    "                if(regression.slope >= positive_threshold):\n",
    "                    very_positive_slopes.append([molp5_exp.features_human[index],regression.slope])\n",
    "                if(regression.slope <= negative_threshold):\n",
    "                    very_negative_slopes.append([molp5_exp.features_human[index],regression.slope])\n",
    "                if(regression.slope >= r2_threshold):\n",
    "                    good_r2_values.append([molp5_exp.features_human[index],regression.rvalue**2])\n",
    "            ax.scatter(np.arange(0,len(r2_values)), r2_values, label='R$^{2}$')\n",
    "            ax.scatter(np.arange(0,len(r2_values)), m_values, label='M')\n",
    "            ax.legend()\n",
    "            plt.ylabel('M-Value for Response Regression')\n",
    "            plt.xlabel('Feature')\n",
    "            path = path_prefix + str(rep) + '/DoseRCFPs/' + molecule + '/' + 'figure.png'\n",
    "            neg_slopespath = path_prefix + str(rep) + '/DoseRCFPs/' + molecule + '/neg_slopes.txt'\n",
    "            pos_slopespath = path_prefix + str(rep) + '/DoseRCFPs/' + molecule + '/pos_slopes.txt'\n",
    "            r2_path = path_prefix + str(rep) + '/DoseRCFPs/' + molecule + '/good_rsqared.txt'\n",
    "            os.makedirs(os.path.dirname(path), exist_ok=True)\n",
    "            with open(neg_slopespath, 'w+') as filehandle:\n",
    "                filehandle.writelines(\"%s\\n\" % slope for slope in very_negative_slopes)\n",
    "                filehandle.close()\n",
    "            with open(pos_slopespath, 'w+') as filehandle:\n",
    "                filehandle.writelines(\"%s\\n\" % slope for slope in very_positive_slopes)\n",
    "                filehandle.close()\n",
    "            with open(r2_path, 'w+') as filehandle:\n",
    "                filehandle.writelines(\"%s\\n\" % r2 for r2 in good_r2_values)\n",
    "                filehandle.close()\n",
    "            plt.savefig(path, dpi=300)\n",
    "            plt.close('all')"
   ]
  },
  {
   "cell_type": "code",
   "execution_count": 757,
   "metadata": {
    "collapsed": false
   },
   "outputs": [],
   "source": [
    "GenerateDoseResponseFingerprint(MyTest, 0.7, 0.7, 0.7, 'Ctrl')"
   ]
  },
  {
   "cell_type": "code",
   "execution_count": 20,
   "metadata": {
    "collapsed": false
   },
   "outputs": [],
   "source": [
    "GenerateDoseResponseFingerprint(control_exp, 0.7, 0.7, 0.7, 'Ctrl')"
   ]
  },
  {
   "cell_type": "code",
   "execution_count": null,
   "metadata": {
    "collapsed": false
   },
   "outputs": [],
   "source": [
    "# Returns 187 x 1969 list of all wells that had a molecule in them. Filter by concentration, then cluster\n",
    "# then filter out a molecule, then cluster\n",
    "# Then try replicates?\n",
    "dropColumns(MyTest.getCompoundRows(1), 'Metadata_Well', 'Count_Cells', 'Count_Cytoplasm', 'Count_Nuclei', axis=1)"
   ]
  },
  {
   "cell_type": "code",
   "execution_count": 68,
   "metadata": {
    "collapsed": false
   },
   "outputs": [],
   "source": [
    "# Pearson's Correlation Matrix\n"
   ]
  },
  {
   "cell_type": "code",
   "execution_count": 67,
   "metadata": {
    "collapsed": false
   },
   "outputs": [],
   "source": [
    "# Spearman's Correlation Matrix\n"
   ]
  },
  {
   "cell_type": "code",
   "execution_count": 66,
   "metadata": {
    "collapsed": false
   },
   "outputs": [],
   "source": [
    "# Clustering by Pearson"
   ]
  },
  {
   "cell_type": "code",
   "execution_count": 65,
   "metadata": {
    "collapsed": false
   },
   "outputs": [],
   "source": [
    "# Clustering by Spearman"
   ]
  },
  {
   "cell_type": "code",
   "execution_count": null,
   "metadata": {
    "collapsed": false
   },
   "outputs": [],
   "source": []
  },
  {
   "cell_type": "code",
   "execution_count": null,
   "metadata": {
    "collapsed": false
   },
   "outputs": [],
   "source": [
    "# PCA, All Together"
   ]
  },
  {
   "cell_type": "code",
   "execution_count": null,
   "metadata": {
    "collapsed": false
   },
   "outputs": [],
   "source": [
    "def GeneratePCAs(molp5_exp):\n",
    "    fingerprint_matrices = pd.DataFrame()\n",
    "    features = None\n",
    "    # Dataset\n",
    "    X = None\n",
    "    # Standard Scaler output\n",
    "    x = None\n",
    "    # Molecule names\n",
    "    y = None\n",
    "    # Concentrations\n",
    "    z = None\n",
    "    pca = None\n",
    "    principalComponents = None\n",
    "    processed_dataframes = None\n",
    "    final_dataframes = None\n",
    "    for i in range(1, molp5_exp.replicates + 1):\n",
    "        fingerprint_matrices = fingerprint_matrices.append(molp5_exp.getFingerprintMatrix(i)).reset_index(drop=True)\n",
    "    features = fingerprint_matrices.columns[3:]\n",
    "    X = fingerprint_matrices.loc[:,features].values\n",
    "    y = fingerprint_matrices.loc[:,['Molecule']]\n",
    "    z = fingerprint_matrices.loc[:,['Concentration']]\n",
    "    a = fingerprint_matrices.loc[:,['Replicate']]\n",
    "    x = StandardScaler().fit_transform(X)\n",
    "    pca = PCA(n_components=len(fingerprint_matrices))\n",
    "    principalComponents = pca.fit_transform(x)\n",
    "    processed_DF = pd.DataFrame(data = principalComponents, columns = ['principal component' + str(index + 1) for index, item in enumerate(principalComponents)])\n",
    "    pDFinal = pd.concat([processed_DF, y], axis = 1)\n",
    "    pDFinal = pd.concat([pDFinal, z], axis = 1)\n",
    "    pDFinal = pd.concat([pDFinal, a], axis = 1)\n",
    "    return pDFinal"
   ]
  },
  {
   "cell_type": "code",
   "execution_count": null,
   "metadata": {
    "collapsed": false
   },
   "outputs": [],
   "source": [
    "experimental_pca = GeneratePCAs(MyTest)\n",
    "control_pca = GeneratePCAs(control_exp)"
   ]
  },
  {
   "cell_type": "code",
   "execution_count": null,
   "metadata": {
    "collapsed": false
   },
   "outputs": [],
   "source": [
    "experimental_pca.head()"
   ]
  },
  {
   "cell_type": "code",
   "execution_count": null,
   "metadata": {
    "collapsed": false
   },
   "outputs": [],
   "source": [
    "def GeneratePCAGraph(molp5_exp, pcas, path_prefix, pc1, pc2):\n",
    "    fig = plt.figure(figsize = (20,20))\n",
    "    fig.patch.set_facecolor('white')\n",
    "    plt.scatter(x = pcas.iloc[:180,pc1], y = pcas.iloc[:180,pc2], label='Replicate 1')\n",
    "    plt.scatter(x = pcas.iloc[180:360,pc1], y = pcas.iloc[180:360,pc2], label='Replicate 2')\n",
    "    plt.scatter(x = pcas.iloc[360:540,pc1], y = pcas.iloc[360:540,pc2], label='Replicate 3')\n",
    "    for i, text in enumerate(pcas['Molecule']):\n",
    "        plt.annotate(text, (pcas.iloc[:,pc1].iat[i]+0.5, pcas.iloc[:,pc2].iat[i]+0.3), fontsize=16)\n",
    "    plt.legend(markerscale=2, fontsize=16)\n",
    "    path = 'PCAs/' + path_prefix + '/' + str(pc1) + 'vs' + str(pc2) + '.png'\n",
    "    os.makedirs(os.path.dirname(path), exist_ok=True)\n",
    "    plt.savefig(path, dpi=300)\n",
    "    # plt.show()\n",
    "    plt.close('all')"
   ]
  },
  {
   "cell_type": "code",
   "execution_count": null,
   "metadata": {
    "collapsed": false
   },
   "outputs": [],
   "source": [
    "GeneratePCAGraph(MyTest, experimental_pca, 'Rep', 1, 2)"
   ]
  },
  {
   "cell_type": "code",
   "execution_count": null,
   "metadata": {
    "collapsed": false
   },
   "outputs": [],
   "source": [
    "def GenerateAllPCAGraphs(molp5_exp, pca, path_prefix, limit):\n",
    "    for i in range(1, limit+1):\n",
    "        GeneratePCAGraph(molp5_exp, pca, path_prefix, i, i+1)"
   ]
  },
  {
   "cell_type": "code",
   "execution_count": null,
   "metadata": {
    "collapsed": false
   },
   "outputs": [],
   "source": [
    "GenerateAllPCAGraphs(MyTest, experimental_pca, 'Rep', 10)\n",
    "GenerateAllPCAGraphs(control_exp, control_pca, 'Ctrl', 10)"
   ]
  },
  {
   "cell_type": "code",
   "execution_count": null,
   "metadata": {
    "collapsed": false
   },
   "outputs": [],
   "source": [
    "# PCA, Separately"
   ]
  },
  {
   "cell_type": "code",
   "execution_count": null,
   "metadata": {
    "collapsed": false
   },
   "outputs": [],
   "source": [
    "test = MyTest.getFingerprintMatrix(1)\n",
    "test2 = MyTest.getFingerprintMatrix(2)\n",
    "test3 = MyTest.getFingerprintMatrix(3)\n",
    "test_meta = pd.append([])"
   ]
  },
  {
   "cell_type": "code",
   "execution_count": null,
   "metadata": {
    "collapsed": false
   },
   "outputs": [],
   "source": [
    "features = test.columns[2:]\n",
    "features_2 = test2.columns[2:]\n",
    "features_3 = test3.columns[2:]"
   ]
  },
  {
   "cell_type": "code",
   "execution_count": null,
   "metadata": {
    "collapsed": false
   },
   "outputs": [],
   "source": [
    "X = test.loc[: , features].values\n",
    "X_2 = test2.loc[: , features_2].values\n",
    "X_3 = test3.loc[: , features_3].values"
   ]
  },
  {
   "cell_type": "code",
   "execution_count": null,
   "metadata": {
    "collapsed": false
   },
   "outputs": [],
   "source": [
    "y = test.loc[:,['Molecule']].values\n",
    "y_2 = test2.loc[:,['Molecule']].values\n",
    "y_3 = test3.loc[:,['Molecule']].values"
   ]
  },
  {
   "cell_type": "code",
   "execution_count": null,
   "metadata": {
    "collapsed": false
   },
   "outputs": [],
   "source": [
    "x = StandardScaler().fit_transform(X)\n",
    "x_2 = StandardScaler().fit_transform(X_2)\n",
    "x_3 = StandardScaler().fit_transform(X_3)"
   ]
  },
  {
   "cell_type": "code",
   "execution_count": null,
   "metadata": {
    "collapsed": false
   },
   "outputs": [],
   "source": [
    "pca = PCA(n_components=180)\n",
    "pca_2 = PCA(n_components=180)\n",
    "pca_3 = PCA(n_components=180)"
   ]
  },
  {
   "cell_type": "code",
   "execution_count": null,
   "metadata": {
    "collapsed": false
   },
   "outputs": [],
   "source": [
    "principalComponents = pca.fit_transform(x)\n",
    "principalComponents_2 = pca.fit_transform(x_2)\n",
    "principalComponents_3 = pca.fit_transform(x_3)"
   ]
  },
  {
   "cell_type": "code",
   "execution_count": null,
   "metadata": {
    "collapsed": false
   },
   "outputs": [],
   "source": [
    "pDF = pd.DataFrame(\n",
    "    data = principalComponents, columns = ['principal component' + str(index + 1) for index, item in enumerate(principalComponents)]\n",
    ")\n",
    "pDF_2 = pd.DataFrame(\n",
    "    data = principalComponents_2, columns = ['principal component' + str(index + 1) for index, item in enumerate(principalComponents_2)]\n",
    ")\n",
    "pDF_3 = pd.DataFrame(\n",
    "    data = principalComponents_3, columns = ['principal component' + str(index + 1) for index, item in enumerate(principalComponents_3)]\n",
    ")"
   ]
  },
  {
   "cell_type": "code",
   "execution_count": null,
   "metadata": {
    "collapsed": false
   },
   "outputs": [],
   "source": [
    "PCAFinals = [pDF,pDF_2,pDF_3]"
   ]
  },
  {
   "cell_type": "code",
   "execution_count": null,
   "metadata": {
    "collapsed": false
   },
   "outputs": [],
   "source": [
    "for entry in PCAFinals:\n",
    "    fig = plt.figure(figsize = (40,40))\n",
    "    plt.scatter(x = entry.iloc[:,0],y = entry.iloc[:,1])\n",
    "    for i, text in enumerate(entry['Molecule']):\n",
    "        plt.annotate(text, (entry.iloc[:,0].iat[i], entry.iloc[:,1].iat[i]), fontsize=16)\n",
    "    fig.patch.set_facecolor('white')\n",
    "    plt.savefig(\"pctest1v2.png\")\n",
    "    plt.show()"
   ]
  },
  {
   "cell_type": "code",
   "execution_count": null,
   "metadata": {
    "collapsed": false
   },
   "outputs": [],
   "source": [
    "# Histograms"
   ]
  },
  {
   "cell_type": "code",
   "execution_count": null,
   "metadata": {
    "collapsed": false
   },
   "outputs": [],
   "source": [
    "# All Reps, Exp.\n",
    "test_hist_data = MyTest.generateVectorDistances()\n",
    "fig, ax = plt.subplots(figsize=(10,10))\n",
    "fig.patch.set_facecolor('white')\n",
    "test_hist_data.hist(column=\"Magnitude\", by=\"Concentration\", ax=ax, bins=10)\n",
    "for ax in fig.get_axes():\n",
    "    ax.set_ylabel(\"Number of Molecules\")\n",
    "    ax.set_xlabel(\"Magnitude of Feature Vector\")\n",
    "fig.suptitle(\"Feature Vector Magnitudes at Different Concentrations\", y = 0.97, fontsize = 22)\n",
    "path = \"Histograms/AllReplicates.png\"\n",
    "os.makedirs(os.path.dirname(path), exist_ok=True)\n",
    "plt.savefig(path)"
   ]
  },
  {
   "cell_type": "code",
   "execution_count": null,
   "metadata": {
    "collapsed": false
   },
   "outputs": [],
   "source": [
    "# All Reps, Ctrl.\n",
    "test_hist_data_ctrl = control_exp.generateVectorDistances()\n",
    "fig, ax = plt.subplots(figsize=(20,20))\n",
    "fig.patch.set_facecolor('white')\n",
    "test_hist_data_ctrl.hist(column=\"Magnitude\", by=\"Concentration\", ax=ax, bins=10)\n",
    "for ax in fig.get_axes():\n",
    "    ax.set_ylabel(\"Number of Molecules\")\n",
    "    ax.set_xlabel(\"Magnitude of Feature Vector\")\n",
    "fig.suptitle(\"Feature Vector Magnitudes at Different Concentrations\", y = 0.955, fontsize = 22)\n",
    "path = \"Histograms/AllControls.png\"\n",
    "os.makedirs(os.path.dirname(path), exist_ok=True)\n",
    "plt.savefig(path)"
   ]
  },
  {
   "cell_type": "code",
   "execution_count": null,
   "metadata": {
    "collapsed": false
   },
   "outputs": [],
   "source": [
    "# Individual Reps, Exp.\n",
    "for rep in range(1, MyTest.replicates+1):\n",
    "    test_hist_data = MyTest.generateVectorDistances(replicate=rep)\n",
    "    fig, ax = plt.subplots(figsize=(20,20))\n",
    "    fig.patch.set_facecolor('white')\n",
    "    test_hist_data.hist(column=\"Magnitude\", by=\"Concentration\", ax=ax, bins=10)\n",
    "    for ax in fig.get_axes():\n",
    "        ax.set_ylabel(\"Number of Molecules\")\n",
    "        ax.set_xlabel(\"Magnitude of Feature Vector\")\n",
    "    fig.suptitle(\"Feature Vector Magnitudes at Different Concentrations\", y = 0.955, fontsize = 22)\n",
    "    path = \"Histograms/Rep/Rep\" + str(rep) + \".png\"\n",
    "    os.makedirs(os.path.dirname(path), exist_ok=True)\n",
    "    plt.savefig(path)"
   ]
  },
  {
   "cell_type": "code",
   "execution_count": null,
   "metadata": {
    "collapsed": false
   },
   "outputs": [],
   "source": [
    "# Individual Reps, Ctrl.\n",
    "for rep in range(1, control_exp.replicates+1):\n",
    "    test_hist_data = control_exp.generateVectorDistances(replicate=rep)\n",
    "    fig, ax = plt.subplots(figsize=(20,20))\n",
    "    fig.patch.set_facecolor('white')\n",
    "    test_hist_data.hist(column=\"Magnitude\", by=\"Concentration\", ax=ax, bins=10)\n",
    "    for ax in fig.get_axes():\n",
    "        ax.set_ylabel(\"Number of Molecules\")\n",
    "        ax.set_xlabel(\"Magnitude of Feature Vector\")\n",
    "    fig.suptitle(\"Feature Vector Magnitudes at Different Concentrations\", y = 0.955, fontsize = 22)\n",
    "    path = \"Histograms/Ctrl/Rep\" + str(rep) + \".png\"\n",
    "    os.makedirs(os.path.dirname(path), exist_ok=True)\n",
    "    plt.savefig(path)"
   ]
  },
  {
   "cell_type": "code",
   "execution_count": null,
   "metadata": {
    "collapsed": false
   },
   "outputs": [],
   "source": [
    "# Clustering"
   ]
  },
  {
   "cell_type": "code",
   "execution_count": null,
   "metadata": {
    "collapsed": false
   },
   "outputs": [],
   "source": [
    "test10 = MyTest.getDistanceMatrix(3, method='euclidean')"
   ]
  },
  {
   "cell_type": "code",
   "execution_count": null,
   "metadata": {
    "collapsed": false
   },
   "outputs": [],
   "source": [
    "testcluster = AgglomerativeClustering(distance_threshold=0,n_clusters=None).fit(dropColumns(test11, 'Replicate', 'Molecule', 'Concentration', axis=1))"
   ]
  },
  {
   "cell_type": "code",
   "execution_count": null,
   "metadata": {
    "collapsed": false
   },
   "outputs": [],
   "source": [
    "molecules = [molecule for sublist in [[molecule] * 6 for molecule in MyTest.molecules] for molecule in sublist]"
   ]
  },
  {
   "cell_type": "code",
   "execution_count": null,
   "metadata": {
    "collapsed": false
   },
   "outputs": [],
   "source": [
    "from scipy.cluster.hierarchy import dendrogram\n",
    "def plot_dendrogram(model, **kwargs):\n",
    "    # Create linkage matrix and then plot the dendrogram\n",
    "\n",
    "    # create the counts of samples under each node\n",
    "    counts = np.zeros(model.children_.shape[0])\n",
    "    n_samples = len(model.labels_)\n",
    "    for i, merge in enumerate(model.children_):\n",
    "        current_count = 0\n",
    "        for child_idx in merge:\n",
    "            if child_idx < n_samples:\n",
    "                current_count += 1  # leaf node\n",
    "            else:\n",
    "                current_count += counts[child_idx - n_samples]\n",
    "        counts[i] = current_count\n",
    "\n",
    "    linkage_matrix = np.column_stack([model.children_, model.distances_,\n",
    "                                      counts]).astype(float)\n",
    "\n",
    "    # Plot the corresponding dendrogram\n",
    "    fig = plt.figure(figsize = (20,20))\n",
    "    fig.patch.set_facecolor('white')\n",
    "    dendrogram(linkage_matrix, **kwargs)\n",
    "    plt.xlabel(\"Well\")"
   ]
  },
  {
   "cell_type": "code",
   "execution_count": null,
   "metadata": {
    "collapsed": false
   },
   "outputs": [],
   "source": [
    "test12 = dropColumns(test11, 'Replicate', 'Molecule', axis=1) "
   ]
  },
  {
   "cell_type": "code",
   "execution_count": null,
   "metadata": {
    "collapsed": false
   },
   "outputs": [],
   "source": [
    "fig = plt.figure(figsize=(40,40))\n",
    "fig.patch.set_facecolor('white')\n",
    "sns.set(font_scale=0.25)\n",
    "sns.clustermap(dropColumns(test11, 'Replicate', 'Molecule', axis=1), yticklabels=test11['Molecule'])\n",
    "plt.savefig(\"heatmaptest.png\",dpi=300)\n",
    "plt.show()"
   ]
  },
  {
   "cell_type": "code",
   "execution_count": null,
   "metadata": {
    "collapsed": false
   },
   "outputs": [],
   "source": [
    "plot_dendrogram(testcluster, labels=molecules)\n",
    "plt.savefig(\"testden.png\", dpi=300)"
   ]
  }
 ],
 "metadata": {
  "kernelspec": {
   "argv": [
    "/usr/local/anaconda3/envs/Boskovic_Cheminformatics/bin/python",
    "-m",
    "ipykernel_launcher",
    "-f",
    "{connection_file}"
   ],
   "display_name": "Python 3",
   "env": null,
   "interrupt_mode": "signal",
   "language": "python",
   "metadata": null,
   "name": "python3"
  },
  "language_info": {
   "codemirror_mode": {
    "name": "ipython",
    "version": 3
   },
   "file_extension": ".py",
   "mimetype": "text/x-python",
   "name": "python",
   "nbconvert_exporter": "python",
   "pygments_lexer": "ipython3",
   "version": "3.7.6"
  },
  "name": "Laptop-Latest.ipynb"
 },
 "nbformat": 4,
 "nbformat_minor": 2
}
